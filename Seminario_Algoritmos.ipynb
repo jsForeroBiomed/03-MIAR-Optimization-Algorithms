{
  "nbformat": 4,
  "nbformat_minor": 0,
  "metadata": {
    "colab": {
      "provenance": [],
      "include_colab_link": true
    },
    "kernelspec": {
      "name": "python3",
      "display_name": "Python 3"
    }
  },
  "cells": [
    {
      "cell_type": "markdown",
      "metadata": {
        "id": "view-in-github",
        "colab_type": "text"
      },
      "source": [
        "<a href=\"https://colab.research.google.com/github/jsForeroBiomed/03-MIAR-Optimization-Algorithms/blob/main/Seminario_Algoritmos.ipynb\" target=\"_parent\"><img src=\"https://colab.research.google.com/assets/colab-badge.svg\" alt=\"Open In Colab\"/></a>"
      ]
    },
    {
      "cell_type": "markdown",
      "metadata": {
        "id": "hVbXYX-RfPWh"
      },
      "source": [
        "# Algoritmos de optimización - Seminario<br>\n",
        "Nombre y Apellidos:   <br>\n",
        "Url: https://github.com/.../03MAIR---Algoritmos-de-Optimizacion---2019/tree/master/SEMINARIO<br>\n",
        "Problema:\n",
        "> 1. Sesiones de doblaje <br>\n",
        ">2. Organizar los horarios de partidos de La Liga<br>\n",
        ">3. Combinar cifras y operaciones\n",
        "\n",
        "Descripción del problema:(copiar enunciado)\n",
        "\n",
        "....\n",
        "\n",
        "(*) La respuesta es obligatoria\n",
        "\n",
        "\n",
        "\n",
        "\n",
        "\n",
        "                                        "
      ]
    },
    {
      "cell_type": "code",
      "metadata": {
        "id": "AiskKkzZfy4e",
        "colab": {
          "base_uri": "https://localhost:8080/"
        },
        "outputId": "7ddcbeae-1811-4628-ca85-8bc7c347d171"
      },
      "source": [
        "!pip install pulp"
      ],
      "execution_count": 2,
      "outputs": [
        {
          "output_type": "stream",
          "name": "stdout",
          "text": [
            "Collecting pulp\n",
            "  Downloading PuLP-2.7.0-py3-none-any.whl (14.3 MB)\n",
            "\u001b[2K     \u001b[90m━━━━━━━━━━━━━━━━━━━━━━━━━━━━━━━━━━━━━━━━\u001b[0m \u001b[32m14.3/14.3 MB\u001b[0m \u001b[31m25.9 MB/s\u001b[0m eta \u001b[36m0:00:00\u001b[0m\n",
            "\u001b[?25hInstalling collected packages: pulp\n",
            "Successfully installed pulp-2.7.0\n"
          ]
        }
      ]
    },
    {
      "cell_type": "code",
      "source": [
        "import pulp\n",
        "\n",
        "# Datos del problema\n",
        "num_actores = 10\n",
        "num_tomas = 30\n",
        "max_tomas_por_dia = 6\n",
        "\n",
        "# Matriz de actores/tomas\n",
        "actores_tomas = [\n",
        "    [1, 1, 1, 1, 1, 0, 0, 0, 0, 0],\n",
        "    [0, 0, 1, 1, 1, 0, 0, 0, 0, 0],\n",
        "    [0, 1, 0, 0, 1, 0, 1, 0, 0, 0],\n",
        "    [1, 1, 0, 0, 0, 0, 1, 1, 0, 0],\n",
        "    [0, 1, 0, 1, 0, 0, 0, 1, 0, 0],\n",
        "    [1, 1, 0, 1, 1, 0, 0, 0, 0, 0],\n",
        "    [1, 1, 0, 1, 1, 0, 0, 0, 0, 0],\n",
        "    [1, 1, 0, 0, 0, 1, 0, 0, 0, 0],\n",
        "    [1, 1, 0, 1, 0, 0, 0, 0, 0, 0],\n",
        "    [1, 1, 0, 0, 0, 1, 0, 0, 1, 0],\n",
        "    [1, 1, 1, 0, 1, 0, 0, 1, 0, 0],\n",
        "    [1, 1, 1, 1, 0, 1, 0, 0, 0, 0],\n",
        "    [1, 0, 0, 1, 1, 0, 0, 0, 0, 0],\n",
        "    [1, 0, 1, 0, 0, 1, 0, 0, 0, 0],\n",
        "    [1, 1, 0, 0, 0, 0, 1, 0, 0, 0],\n",
        "    [0, 0, 0, 1, 0, 0, 0, 0, 0, 1],\n",
        "    [1, 0, 1, 0, 0, 0, 0, 0, 0, 0],\n",
        "    [0, 0, 1, 0, 0, 1, 0, 0, 0, 0],\n",
        "    [1, 0, 1, 0, 0, 0, 0, 0, 0, 0],\n",
        "    [1, 0, 1, 1, 1, 0, 0, 0, 0, 0],\n",
        "    [0, 0, 0, 0, 0, 1, 0, 1, 0, 0],\n",
        "    [1, 1, 1, 1, 0, 0, 0, 0, 0, 0],\n",
        "    [1, 0, 1, 0, 0, 0, 0, 0, 0, 0],\n",
        "    [0, 0, 1, 0, 0, 1, 0, 0, 0, 0],\n",
        "    [1, 1, 0, 1, 0, 0, 0, 0, 0, 1],\n",
        "    [1, 0, 1, 0, 1, 0, 0, 0, 1, 0],\n",
        "    [0, 0, 0, 1, 1, 0, 0, 0, 0, 0],\n",
        "    [1, 0, 0, 1, 0, 0, 0, 0, 0, 0],\n",
        "    [1, 0, 0, 0, 1, 1, 0, 0, 0, 0],\n",
        "    [1, 0, 0, 1, 0, 0, 0, 0, 0, 0]\n",
        "]\n",
        "\n",
        "# Crear un problema de minimización de PuLP\n",
        "problema = pulp.LpProblem(\"PlanificacionDoblaje\", pulp.LpMinimize)\n",
        "\n",
        "# Variables binarias para representar si un actor trabaja en una toma\n",
        "trabaja = pulp.LpVariable.dicts(\"Trabaja\", [(i, j) for i in range(num_actores) for j in range(num_tomas)], 0, 1, pulp.LpBinary)\n",
        "print(trabaja)\n",
        "\n",
        "# Función objetivo: minimizar el costo total\n",
        "problema += pulp.lpSum(trabaja[(i, j)] for i in range(num_actores) for j in range(num_tomas))\n",
        "\n",
        "# Restricción 1: Cada toma debe ser cubierta por un grupo de actores\n",
        "for j in range(num_tomas):\n",
        "    problema += pulp.lpSum(trabaja[(i, j)] for i in range(num_actores)) >= 1\n",
        "\n",
        "# Restricción 2: No más de 6 tomas por día\n",
        "for j in range(num_tomas):\n",
        "    problema += pulp.lpSum(trabaja[(i, j)] for i in range(num_actores)) <= max_tomas_por_dia\n",
        "\n",
        "# Resuelve el problema\n",
        "problema.solve()\n",
        "\n",
        "# Imprime la solución\n",
        "print(\"Status:\", pulp.LpStatus[problema.status])\n",
        "print(\"Costo total:\", pulp.value(problema.objective))\n",
        "\n",
        "# Muestra la planificación por día\n",
        "for j in range(num_tomas):\n",
        "    actores_en_toma = [i for i in range(num_actores) if pulp.value(trabaja[(i, j)]) == 1]\n",
        "    if actores_en_toma:\n",
        "        print(f\"Toma {j + 1}: Actores {actores_en_toma}\")"
      ],
      "metadata": {
        "colab": {
          "base_uri": "https://localhost:8080/"
        },
        "id": "ErBOrD32rm5n",
        "outputId": "9dad1975-28a9-4896-9d65-d224032c479c"
      },
      "execution_count": 4,
      "outputs": [
        {
          "output_type": "stream",
          "name": "stdout",
          "text": [
            "{(0, 0): Trabaja_(0,_0), (0, 1): Trabaja_(0,_1), (0, 2): Trabaja_(0,_2), (0, 3): Trabaja_(0,_3), (0, 4): Trabaja_(0,_4), (0, 5): Trabaja_(0,_5), (0, 6): Trabaja_(0,_6), (0, 7): Trabaja_(0,_7), (0, 8): Trabaja_(0,_8), (0, 9): Trabaja_(0,_9), (0, 10): Trabaja_(0,_10), (0, 11): Trabaja_(0,_11), (0, 12): Trabaja_(0,_12), (0, 13): Trabaja_(0,_13), (0, 14): Trabaja_(0,_14), (0, 15): Trabaja_(0,_15), (0, 16): Trabaja_(0,_16), (0, 17): Trabaja_(0,_17), (0, 18): Trabaja_(0,_18), (0, 19): Trabaja_(0,_19), (0, 20): Trabaja_(0,_20), (0, 21): Trabaja_(0,_21), (0, 22): Trabaja_(0,_22), (0, 23): Trabaja_(0,_23), (0, 24): Trabaja_(0,_24), (0, 25): Trabaja_(0,_25), (0, 26): Trabaja_(0,_26), (0, 27): Trabaja_(0,_27), (0, 28): Trabaja_(0,_28), (0, 29): Trabaja_(0,_29), (1, 0): Trabaja_(1,_0), (1, 1): Trabaja_(1,_1), (1, 2): Trabaja_(1,_2), (1, 3): Trabaja_(1,_3), (1, 4): Trabaja_(1,_4), (1, 5): Trabaja_(1,_5), (1, 6): Trabaja_(1,_6), (1, 7): Trabaja_(1,_7), (1, 8): Trabaja_(1,_8), (1, 9): Trabaja_(1,_9), (1, 10): Trabaja_(1,_10), (1, 11): Trabaja_(1,_11), (1, 12): Trabaja_(1,_12), (1, 13): Trabaja_(1,_13), (1, 14): Trabaja_(1,_14), (1, 15): Trabaja_(1,_15), (1, 16): Trabaja_(1,_16), (1, 17): Trabaja_(1,_17), (1, 18): Trabaja_(1,_18), (1, 19): Trabaja_(1,_19), (1, 20): Trabaja_(1,_20), (1, 21): Trabaja_(1,_21), (1, 22): Trabaja_(1,_22), (1, 23): Trabaja_(1,_23), (1, 24): Trabaja_(1,_24), (1, 25): Trabaja_(1,_25), (1, 26): Trabaja_(1,_26), (1, 27): Trabaja_(1,_27), (1, 28): Trabaja_(1,_28), (1, 29): Trabaja_(1,_29), (2, 0): Trabaja_(2,_0), (2, 1): Trabaja_(2,_1), (2, 2): Trabaja_(2,_2), (2, 3): Trabaja_(2,_3), (2, 4): Trabaja_(2,_4), (2, 5): Trabaja_(2,_5), (2, 6): Trabaja_(2,_6), (2, 7): Trabaja_(2,_7), (2, 8): Trabaja_(2,_8), (2, 9): Trabaja_(2,_9), (2, 10): Trabaja_(2,_10), (2, 11): Trabaja_(2,_11), (2, 12): Trabaja_(2,_12), (2, 13): Trabaja_(2,_13), (2, 14): Trabaja_(2,_14), (2, 15): Trabaja_(2,_15), (2, 16): Trabaja_(2,_16), (2, 17): Trabaja_(2,_17), (2, 18): Trabaja_(2,_18), (2, 19): Trabaja_(2,_19), (2, 20): Trabaja_(2,_20), (2, 21): Trabaja_(2,_21), (2, 22): Trabaja_(2,_22), (2, 23): Trabaja_(2,_23), (2, 24): Trabaja_(2,_24), (2, 25): Trabaja_(2,_25), (2, 26): Trabaja_(2,_26), (2, 27): Trabaja_(2,_27), (2, 28): Trabaja_(2,_28), (2, 29): Trabaja_(2,_29), (3, 0): Trabaja_(3,_0), (3, 1): Trabaja_(3,_1), (3, 2): Trabaja_(3,_2), (3, 3): Trabaja_(3,_3), (3, 4): Trabaja_(3,_4), (3, 5): Trabaja_(3,_5), (3, 6): Trabaja_(3,_6), (3, 7): Trabaja_(3,_7), (3, 8): Trabaja_(3,_8), (3, 9): Trabaja_(3,_9), (3, 10): Trabaja_(3,_10), (3, 11): Trabaja_(3,_11), (3, 12): Trabaja_(3,_12), (3, 13): Trabaja_(3,_13), (3, 14): Trabaja_(3,_14), (3, 15): Trabaja_(3,_15), (3, 16): Trabaja_(3,_16), (3, 17): Trabaja_(3,_17), (3, 18): Trabaja_(3,_18), (3, 19): Trabaja_(3,_19), (3, 20): Trabaja_(3,_20), (3, 21): Trabaja_(3,_21), (3, 22): Trabaja_(3,_22), (3, 23): Trabaja_(3,_23), (3, 24): Trabaja_(3,_24), (3, 25): Trabaja_(3,_25), (3, 26): Trabaja_(3,_26), (3, 27): Trabaja_(3,_27), (3, 28): Trabaja_(3,_28), (3, 29): Trabaja_(3,_29), (4, 0): Trabaja_(4,_0), (4, 1): Trabaja_(4,_1), (4, 2): Trabaja_(4,_2), (4, 3): Trabaja_(4,_3), (4, 4): Trabaja_(4,_4), (4, 5): Trabaja_(4,_5), (4, 6): Trabaja_(4,_6), (4, 7): Trabaja_(4,_7), (4, 8): Trabaja_(4,_8), (4, 9): Trabaja_(4,_9), (4, 10): Trabaja_(4,_10), (4, 11): Trabaja_(4,_11), (4, 12): Trabaja_(4,_12), (4, 13): Trabaja_(4,_13), (4, 14): Trabaja_(4,_14), (4, 15): Trabaja_(4,_15), (4, 16): Trabaja_(4,_16), (4, 17): Trabaja_(4,_17), (4, 18): Trabaja_(4,_18), (4, 19): Trabaja_(4,_19), (4, 20): Trabaja_(4,_20), (4, 21): Trabaja_(4,_21), (4, 22): Trabaja_(4,_22), (4, 23): Trabaja_(4,_23), (4, 24): Trabaja_(4,_24), (4, 25): Trabaja_(4,_25), (4, 26): Trabaja_(4,_26), (4, 27): Trabaja_(4,_27), (4, 28): Trabaja_(4,_28), (4, 29): Trabaja_(4,_29), (5, 0): Trabaja_(5,_0), (5, 1): Trabaja_(5,_1), (5, 2): Trabaja_(5,_2), (5, 3): Trabaja_(5,_3), (5, 4): Trabaja_(5,_4), (5, 5): Trabaja_(5,_5), (5, 6): Trabaja_(5,_6), (5, 7): Trabaja_(5,_7), (5, 8): Trabaja_(5,_8), (5, 9): Trabaja_(5,_9), (5, 10): Trabaja_(5,_10), (5, 11): Trabaja_(5,_11), (5, 12): Trabaja_(5,_12), (5, 13): Trabaja_(5,_13), (5, 14): Trabaja_(5,_14), (5, 15): Trabaja_(5,_15), (5, 16): Trabaja_(5,_16), (5, 17): Trabaja_(5,_17), (5, 18): Trabaja_(5,_18), (5, 19): Trabaja_(5,_19), (5, 20): Trabaja_(5,_20), (5, 21): Trabaja_(5,_21), (5, 22): Trabaja_(5,_22), (5, 23): Trabaja_(5,_23), (5, 24): Trabaja_(5,_24), (5, 25): Trabaja_(5,_25), (5, 26): Trabaja_(5,_26), (5, 27): Trabaja_(5,_27), (5, 28): Trabaja_(5,_28), (5, 29): Trabaja_(5,_29), (6, 0): Trabaja_(6,_0), (6, 1): Trabaja_(6,_1), (6, 2): Trabaja_(6,_2), (6, 3): Trabaja_(6,_3), (6, 4): Trabaja_(6,_4), (6, 5): Trabaja_(6,_5), (6, 6): Trabaja_(6,_6), (6, 7): Trabaja_(6,_7), (6, 8): Trabaja_(6,_8), (6, 9): Trabaja_(6,_9), (6, 10): Trabaja_(6,_10), (6, 11): Trabaja_(6,_11), (6, 12): Trabaja_(6,_12), (6, 13): Trabaja_(6,_13), (6, 14): Trabaja_(6,_14), (6, 15): Trabaja_(6,_15), (6, 16): Trabaja_(6,_16), (6, 17): Trabaja_(6,_17), (6, 18): Trabaja_(6,_18), (6, 19): Trabaja_(6,_19), (6, 20): Trabaja_(6,_20), (6, 21): Trabaja_(6,_21), (6, 22): Trabaja_(6,_22), (6, 23): Trabaja_(6,_23), (6, 24): Trabaja_(6,_24), (6, 25): Trabaja_(6,_25), (6, 26): Trabaja_(6,_26), (6, 27): Trabaja_(6,_27), (6, 28): Trabaja_(6,_28), (6, 29): Trabaja_(6,_29), (7, 0): Trabaja_(7,_0), (7, 1): Trabaja_(7,_1), (7, 2): Trabaja_(7,_2), (7, 3): Trabaja_(7,_3), (7, 4): Trabaja_(7,_4), (7, 5): Trabaja_(7,_5), (7, 6): Trabaja_(7,_6), (7, 7): Trabaja_(7,_7), (7, 8): Trabaja_(7,_8), (7, 9): Trabaja_(7,_9), (7, 10): Trabaja_(7,_10), (7, 11): Trabaja_(7,_11), (7, 12): Trabaja_(7,_12), (7, 13): Trabaja_(7,_13), (7, 14): Trabaja_(7,_14), (7, 15): Trabaja_(7,_15), (7, 16): Trabaja_(7,_16), (7, 17): Trabaja_(7,_17), (7, 18): Trabaja_(7,_18), (7, 19): Trabaja_(7,_19), (7, 20): Trabaja_(7,_20), (7, 21): Trabaja_(7,_21), (7, 22): Trabaja_(7,_22), (7, 23): Trabaja_(7,_23), (7, 24): Trabaja_(7,_24), (7, 25): Trabaja_(7,_25), (7, 26): Trabaja_(7,_26), (7, 27): Trabaja_(7,_27), (7, 28): Trabaja_(7,_28), (7, 29): Trabaja_(7,_29), (8, 0): Trabaja_(8,_0), (8, 1): Trabaja_(8,_1), (8, 2): Trabaja_(8,_2), (8, 3): Trabaja_(8,_3), (8, 4): Trabaja_(8,_4), (8, 5): Trabaja_(8,_5), (8, 6): Trabaja_(8,_6), (8, 7): Trabaja_(8,_7), (8, 8): Trabaja_(8,_8), (8, 9): Trabaja_(8,_9), (8, 10): Trabaja_(8,_10), (8, 11): Trabaja_(8,_11), (8, 12): Trabaja_(8,_12), (8, 13): Trabaja_(8,_13), (8, 14): Trabaja_(8,_14), (8, 15): Trabaja_(8,_15), (8, 16): Trabaja_(8,_16), (8, 17): Trabaja_(8,_17), (8, 18): Trabaja_(8,_18), (8, 19): Trabaja_(8,_19), (8, 20): Trabaja_(8,_20), (8, 21): Trabaja_(8,_21), (8, 22): Trabaja_(8,_22), (8, 23): Trabaja_(8,_23), (8, 24): Trabaja_(8,_24), (8, 25): Trabaja_(8,_25), (8, 26): Trabaja_(8,_26), (8, 27): Trabaja_(8,_27), (8, 28): Trabaja_(8,_28), (8, 29): Trabaja_(8,_29), (9, 0): Trabaja_(9,_0), (9, 1): Trabaja_(9,_1), (9, 2): Trabaja_(9,_2), (9, 3): Trabaja_(9,_3), (9, 4): Trabaja_(9,_4), (9, 5): Trabaja_(9,_5), (9, 6): Trabaja_(9,_6), (9, 7): Trabaja_(9,_7), (9, 8): Trabaja_(9,_8), (9, 9): Trabaja_(9,_9), (9, 10): Trabaja_(9,_10), (9, 11): Trabaja_(9,_11), (9, 12): Trabaja_(9,_12), (9, 13): Trabaja_(9,_13), (9, 14): Trabaja_(9,_14), (9, 15): Trabaja_(9,_15), (9, 16): Trabaja_(9,_16), (9, 17): Trabaja_(9,_17), (9, 18): Trabaja_(9,_18), (9, 19): Trabaja_(9,_19), (9, 20): Trabaja_(9,_20), (9, 21): Trabaja_(9,_21), (9, 22): Trabaja_(9,_22), (9, 23): Trabaja_(9,_23), (9, 24): Trabaja_(9,_24), (9, 25): Trabaja_(9,_25), (9, 26): Trabaja_(9,_26), (9, 27): Trabaja_(9,_27), (9, 28): Trabaja_(9,_28), (9, 29): Trabaja_(9,_29)}\n"
          ]
        }
      ]
    },
    {
      "cell_type": "markdown",
      "metadata": {
        "id": "3_-exlrTgLd-"
      },
      "source": [
        "(*)¿Cuantas posibilidades hay sin tener en cuenta las restricciones?<br>\n",
        "\n",
        "\n",
        "¿Cuantas posibilidades hay teniendo en cuenta todas las restricciones.\n",
        "\n",
        "\n"
      ]
    },
    {
      "cell_type": "markdown",
      "metadata": {
        "id": "WfCUqJyKhPcw"
      },
      "source": [
        "Respuesta"
      ]
    },
    {
      "cell_type": "code",
      "metadata": {
        "id": "iq6Fe32MgpDX",
        "colab": {
          "base_uri": "https://localhost:8080/"
        },
        "outputId": "970dfaad-64ec-447e-ecd1-9f0086c286dc"
      },
      "source": [
        "num_actores = 10\n",
        "num_tomas = 30\n",
        "\n",
        "# Sin restricciones, cada actor puede ser asignado a cualquiera de las tomas.\n",
        "posibilidades_sin_restricciones = num_tomas ** num_actores\n",
        "\n",
        "print(\"Posibilidades sin restricciones:\", posibilidades_sin_restricciones)"
      ],
      "execution_count": 10,
      "outputs": [
        {
          "output_type": "stream",
          "name": "stdout",
          "text": [
            "Posibilidades sin restricciones: 590490000000000\n"
          ]
        }
      ]
    },
    {
      "cell_type": "markdown",
      "metadata": {
        "id": "dzynfVJahHoY"
      },
      "source": [
        "Modelo para el espacio de soluciones<br>\n",
        "(*) ¿Cual es la estructura de datos que mejor se adapta al problema? Argumentalo.(Es posible que hayas elegido una al principio y veas la necesidad de cambiar, arguentalo)\n"
      ]
    },
    {
      "cell_type": "markdown",
      "metadata": {
        "id": "xFIJrOwKi2Ti"
      },
      "source": [
        "La estructura de datos que mejor se adapta al problema de asignar es una matriz bidimensional, en este caso una lista de listas. Desde el inicio, la descripción del problema menciona una matriz de actores/tomas.\n",
        "\n",
        "Esta es una buena opción debido a que es más clara su representación. El problema se describe en términos de la participación de actores en tomas, lo que naturalmente se representa en una matriz bidimensional. Cada fila de la matriz representa a un actor, y cada columna representa una toma. Los valores en la matriz (0 o 1) indican si un actor participa en una toma o no.\n",
        "\n",
        "Además, es fácil acceder a la información. Mediante la matriz, es posible a la participación de actores en tomas rápidamente para ver en qué tomas participa o a la columna de una toma para ver qué actores participan.\n",
        "\n",
        "Sumado a esto, esta estructura de datos es compatible con las restricciones del problema, como el límite de 6 tomas por día. Se puede verificar el número de tomas por día sumando las columnas de la matriz y se puede verificar si cada toma tiene al menos un actor asignado observando las filas.\n",
        "\n",
        "Finalmente, es una alternativa muy flexible. La matriz puede adaptarse a problemas de diferentes tamaños y escenarios de asignación de actores a tomas.\n",
        "\n",
        "Si bien otras estructuras de datos podrían usarse, como diccionarios, una matriz bidimensional sigue siendo la representación más natural y clara para este problema. Puede ser eficiente y fácil de manipular a medida que trabajas con las asignaciones de actores a tomas y aplicas restricciones.\n",
        "\n",
        "Una posible alternativa para mayor eficiencia podría ser el uso de matrices de NumPy pero por el alcance del problema y mayor legibilidad, se mantiene el uso de listas naturales de Python."
      ]
    },
    {
      "cell_type": "markdown",
      "metadata": {
        "id": "7Z9U2W7bi-XS"
      },
      "source": [
        "Según el modelo para el espacio de soluciones<br>\n",
        "(*)¿Cual es la función objetivo?\n",
        "\n",
        "(*)¿Es un problema de maximización o minimización?"
      ]
    },
    {
      "cell_type": "markdown",
      "metadata": {
        "id": "hBalWLM7j1_d"
      },
      "source": [
        "La función objetivo en este problema es minimizar el costo total. El objetivo principal de la planificación es asignar actores a tomas de manera eficiente de modo que el costo total, que es la tarifa diaria de los actores, sea lo más bajo posible.\n",
        "\n",
        "Por lo tanto, este es un problema de minimización. El objetivo es minimizar la función objetivo, que en este caso es la suma de las variables que representan si un actor trabaja en una toma, con el fin de reducir los gastos al asignar actores de la manera más eficiente posible."
      ]
    },
    {
      "cell_type": "markdown",
      "metadata": {
        "id": "rlnTYgY1j6I2"
      },
      "source": [
        "Diseña un algoritmo para resolver el problema por fuerza bruta"
      ]
    },
    {
      "cell_type": "markdown",
      "metadata": {
        "id": "70rDgxYXkC8r"
      },
      "source": [
        "Respuesta\n",
        "\n",
        "Este sería el código, sin embargo, debido a que el uso de fuerza bruta en este caso es una solución altamente ineficiente, se termina consumiendo toda la RAM, y en mi máquina no es posible correr la respuesta."
      ]
    },
    {
      "cell_type": "code",
      "metadata": {
        "id": "CJb5sQ0qkENy"
      },
      "source": [
        "import itertools\n",
        "\n",
        "# Datos del problema\n",
        "num_actores = 10\n",
        "num_tomas = 30\n",
        "max_tomas_por_dia = 6\n",
        "\n",
        "# Matriz de actores/tomas (como en el ejemplo anterior)\n",
        "\n",
        "actores_tomas = [\n",
        "    [1, 1, 1, 1, 1, 0, 0, 0, 0, 0],\n",
        "    [0, 0, 1, 1, 1, 0, 0, 0, 0, 0],\n",
        "    [0, 1, 0, 0, 1, 0, 1, 0, 0, 0],\n",
        "    [1, 1, 0, 0, 0, 0, 1, 1, 0, 0],\n",
        "    [0, 1, 0, 1, 0, 0, 0, 1, 0, 0],\n",
        "    [1, 1, 0, 1, 1, 0, 0, 0, 0, 0],\n",
        "    [1, 1, 0, 1, 1, 0, 0, 0, 0, 0],\n",
        "    [1, 1, 0, 0, 0, 1, 0, 0, 0, 0],\n",
        "    [1, 1, 0, 1, 0, 0, 0, 0, 0, 0],\n",
        "    [1, 1, 0, 0, 0, 1, 0, 0, 1, 0],\n",
        "    [1, 1, 1, 0, 1, 0, 0, 1, 0, 0],\n",
        "    [1, 1, 1, 1, 0, 1, 0, 0, 0, 0],\n",
        "    [1, 0, 0, 1, 1, 0, 0, 0, 0, 0],\n",
        "    [1, 0, 1, 0, 0, 1, 0, 0, 0, 0],\n",
        "    [1, 1, 0, 0, 0, 0, 1, 0, 0, 0],\n",
        "    [0, 0, 0, 1, 0, 0, 0, 0, 0, 1],\n",
        "    [1, 0, 1, 0, 0, 0, 0, 0, 0, 0],\n",
        "    [0, 0, 1, 0, 0, 1, 0, 0, 0, 0],\n",
        "    [1, 0, 1, 0, 0, 0, 0, 0, 0, 0],\n",
        "    [1, 0, 1, 1, 1, 0, 0, 0, 0, 0],\n",
        "    [0, 0, 0, 0, 0, 1, 0, 1, 0, 0],\n",
        "    [1, 1, 1, 1, 0, 0, 0, 0, 0, 0],\n",
        "    [1, 0, 1, 0, 0, 0, 0, 0, 0, 0],\n",
        "    [0, 0, 1, 0, 0, 1, 0, 0, 0, 0],\n",
        "    [1, 1, 0, 1, 0, 0, 0, 0, 0, 1],\n",
        "    [1, 0, 1, 0, 1, 0, 0, 0, 1, 0],\n",
        "    [0, 0, 0, 1, 1, 0, 0, 0, 0, 0],\n",
        "    [1, 0, 0, 1, 0, 0, 0, 0, 0, 0],\n",
        "    [1, 0, 0, 0, 1, 1, 0, 0, 0, 0],\n",
        "    [1, 0, 0, 1, 0, 0, 0, 0, 0, 0]\n",
        "\n",
        "]\n",
        "\n",
        "# Genera todas las posibles combinaciones de asignaciones\n",
        "combinaciones = list(itertools.product([0, 1], repeat=num_actores * num_tomas))\n",
        "\n",
        "mejor_costo = float('inf')\n",
        "mejor_asignacion = None\n",
        "\n",
        "for asignacion in combinaciones:\n",
        "    tomas_por_dia = [sum(asignacion[i:i + num_actores]) for i in range(0, num_actores * num_tomas, num_actores)]\n",
        "\n",
        "    if all(tomas <= max_tomas_por_dia for tomas in tomas_por_dia) and all(sum(asignacion[i::num_actores]) >= 1 for i in range(num_actores)):\n",
        "        costo = sum(asignacion)\n",
        "        if costo < mejor_costo:\n",
        "            mejor_costo = costo\n",
        "            mejor_asignacion = asignacion\n",
        "\n",
        "# Imprime la asignación óptima encontrada\n",
        "print(\"Mejor asignación encontrada:\")\n",
        "for i in range(num_actores):\n",
        "    for j in range(num_tomas):\n",
        "        if mejor_asignacion[i * num_tomas + j] == 1:\n",
        "            print(f\"Actor {i + 1} asignado a Toma {j + 1}\")\n",
        "\n",
        "print(\"Costo total:\", mejor_costo)"
      ],
      "execution_count": null,
      "outputs": []
    },
    {
      "cell_type": "markdown",
      "metadata": {
        "id": "tgrnsC2nkFa8"
      },
      "source": [
        "Calcula la complejidad del algoritmo por fuerza bruta"
      ]
    },
    {
      "cell_type": "markdown",
      "metadata": {
        "id": "9eUd3xwckP68"
      },
      "source": [
        "Respuesta\n",
        "\n",
        "La complejidad del algoritmo por fuerza bruta para resolver este problema es exponencial en términos del número de actores y tomas. En este caso, hay 10 actores y 30 tomas, lo que significa que hay un total de 2^300 posibles asignaciones a evaluar. La complejidad se puede expresar como O(2^(n*m)), donde n es el número de actores y m es el número de tomas.\n",
        "\n",
        "Esta complejidad exponencial significa que el algoritmo por fuerza bruta se vuelve rápidamente impracticable a medida que el número de actores y tomas aumenta. En situaciones reales, resolver el problema de esta manera sería inviable debido al tiempo necesario para evaluar todas las posibles combinaciones. Es por eso que se prefieren enfoques más eficientes, como la programación lineal, para resolver problemas de asignación de recursos."
      ]
    },
    {
      "cell_type": "markdown",
      "metadata": {
        "id": "txbrmLmskReM"
      },
      "source": [
        "(*)Diseña un algoritmo que mejore la complejidad del algortimo por fuerza bruta. Argumenta porque crees que mejora el algoritmo por fuerza bruta"
      ]
    },
    {
      "cell_type": "markdown",
      "metadata": {
        "id": "hLrVwt5QkZPD"
      },
      "source": [
        "Respuesta\n",
        "\n",
        "Para este caso, se plantea un algoritmo de búsqueda exhaustiva con poda, que es más eficiente que la fuerza bruta ya que evita la evaluación de asignaciones inválidas gracias a la función `asignacion_valida`, lo que reduce en gran manera la cantidad de combinaciones a considerar.\n",
        "\n",
        "Sin embargo, sigue siendo impracticable para problemas grandes debido a su complejidad exponencial. Sigue siendo mucho más eficiente el uso de programación lineal entera. En este caso en particular, ya me es posible correrlo sin agotar la RAM pero el tiempo que toma sigue siendo inviable."
      ]
    },
    {
      "cell_type": "code",
      "metadata": {
        "id": "m1eyM21Vkabg"
      },
      "source": [
        "import itertools\n",
        "\n",
        "# Datos del problema\n",
        "num_actores = 10\n",
        "num_tomas = 30\n",
        "max_tomas_por_dia = 6\n",
        "\n",
        "# Matriz de actores/tomas (como en el ejemplo anterior)\n",
        "actores_tomas = [\n",
        "    [1, 1, 1, 1, 1, 0, 0, 0, 0, 0],\n",
        "    [0, 0, 1, 1, 1, 0, 0, 0, 0, 0],\n",
        "    [0, 1, 0, 0, 1, 0, 1, 0, 0, 0],\n",
        "    [1, 1, 0, 0, 0, 0, 1, 1, 0, 0],\n",
        "    [0, 1, 0, 1, 0, 0, 0, 1, 0, 0],\n",
        "    [1, 1, 0, 1, 1, 0, 0, 0, 0, 0],\n",
        "    [1, 1, 0, 1, 1, 0, 0, 0, 0, 0],\n",
        "    [1, 1, 0, 0, 0, 1, 0, 0, 0, 0],\n",
        "    [1, 1, 0, 1, 0, 0, 0, 0, 0, 0],\n",
        "    [1, 1, 0, 0, 0, 1, 0, 0, 1, 0],\n",
        "    [1, 1, 1, 0, 1, 0, 0, 1, 0, 0],\n",
        "    [1, 1, 1, 1, 0, 1, 0, 0, 0, 0],\n",
        "    [1, 0, 0, 1, 1, 0, 0, 0, 0, 0],\n",
        "    [1, 0, 1, 0, 0, 1, 0, 0, 0, 0],\n",
        "    [1, 1, 0, 0, 0, 0, 1, 0, 0, 0],\n",
        "    [0, 0, 0, 1, 0, 0, 0, 0, 0, 1],\n",
        "    [1, 0, 1, 0, 0, 0, 0, 0, 0, 0],\n",
        "    [0, 0, 1, 0, 0, 1, 0, 0, 0, 0],\n",
        "    [1, 0, 1, 0, 0, 0, 0, 0, 0, 0],\n",
        "    [1, 0, 1, 1, 1, 0, 0, 0, 0, 0],\n",
        "    [0, 0, 0, 0, 0, 1, 0, 1, 0, 0],\n",
        "    [1, 1, 1, 1, 0, 0, 0, 0, 0, 0],\n",
        "    [1, 0, 1, 0, 0, 0, 0, 0, 0, 0],\n",
        "    [0, 0, 1, 0, 0, 1, 0, 0, 0, 0],\n",
        "    [1, 1, 0, 1, 0, 0, 0, 0, 0, 1],\n",
        "    [1, 0, 1, 0, 1, 0, 0, 0, 1, 0],\n",
        "    [0, 0, 0, 1, 1, 0, 0, 0, 0, 0],\n",
        "    [1, 0, 0, 1, 0, 0, 0, 0, 0, 0],\n",
        "    [1, 0, 0, 0, 1, 1, 0, 0, 0, 0],\n",
        "    [1, 0, 0, 1, 0, 0, 0, 0, 0, 0]\n",
        "\n",
        "]\n",
        "\n",
        "def costo(asignacion):\n",
        "    # Calcula el costo total de una asignación\n",
        "    return sum(asignacion)\n",
        "\n",
        "def asignacion_valida(asignacion):\n",
        "    # Verifica si una asignación cumple con las restricciones\n",
        "    tomas_por_dia = [sum(asignacion[i:i + num_actores]) for i in range(0, num_actores * num_tomas, num_actores)]\n",
        "    return all(tomas <= max_tomas_por_dia for tomas in tomas_por_dia) and all(sum(asignacion[i::num_actores]) >= 1 for i in range(num_actores))\n",
        "\n",
        "mejor_costo = float('inf')\n",
        "mejor_asignacion = None\n",
        "\n",
        "# Genera todas las posibles combinaciones de asignaciones\n",
        "combinaciones = itertools.product([0, 1], repeat=num_actores * num_tomas)\n",
        "\n",
        "for asignacion in combinaciones:\n",
        "    if asignacion_valida(asignacion):\n",
        "        costo_actual = costo(asignacion)\n",
        "        if costo_actual < mejor_costo:\n",
        "            mejor_costo = costo_actual\n",
        "            mejor_asignacion = asignacion\n",
        "\n",
        "# Imprime la asignación óptima encontrada\n",
        "print(\"Mejor asignación encontrada:\")\n",
        "for i in range(num_actores):\n",
        "    for j in range(num_tomas):\n",
        "        if mejor_asignacion[i * num_tomas + j] == 1:\n",
        "            print(f\"Actor {i + 1} asignado a Toma {j + 1}\")\n",
        "\n",
        "print(\"Costo total:\", mejor_costo)\n"
      ],
      "execution_count": null,
      "outputs": []
    },
    {
      "cell_type": "markdown",
      "metadata": {
        "id": "eGDB4K6uk1iN"
      },
      "source": [
        "(*)Calcula la complejidad del algoritmo"
      ]
    },
    {
      "cell_type": "markdown",
      "metadata": {
        "id": "NhpTh_BPk1ms"
      },
      "source": [
        "Respuesta\n",
        "\n",
        "El algoritmo de búsqueda exhaustiva con poda planteado tiene un mejor rendimiento que la fuerza bruta, pese a que aún es de complejidad exponencial. Su complejidad se puede expresar como O(2^(n*m)), donde n es el número de actores y m es el número de tomas."
      ]
    },
    {
      "cell_type": "markdown",
      "metadata": {
        "id": "3M6QjTsSkmYe"
      },
      "source": [
        "Según el problema (y tenga sentido), diseña un juego de datos de entrada aleatorios"
      ]
    },
    {
      "cell_type": "markdown",
      "metadata": {
        "id": "Jc3_OlyNkvjZ"
      },
      "source": [
        "Respuesta"
      ]
    },
    {
      "cell_type": "code",
      "metadata": {
        "id": "sJ-N2etjkyWc",
        "colab": {
          "base_uri": "https://localhost:8080/"
        },
        "outputId": "9ed6ea69-11d3-4b5b-80a7-780e48412fcb"
      },
      "source": [
        "import random\n",
        "\n",
        "# Número aleatorio de actores (entre 5 y 15)\n",
        "num_actores = random.randint(5, 15)\n",
        "\n",
        "# Número aleatorio de tomas (entre 20 y 40)\n",
        "num_tomas = random.randint(20, 40)\n",
        "\n",
        "# Matriz de actores/tomas aleatoria\n",
        "actores_tomas = [[random.randint(0, 1) for _ in range(num_tomas)] for _ in range(num_actores)]\n",
        "\n",
        "# Imprime los datos de entrada generados\n",
        "print(\"Número de actores:\", num_actores)\n",
        "print(\"Número de tomas:\", num_tomas)\n",
        "print(\"Matriz de actores/tomas:\")\n",
        "\n",
        "for fila in actores_tomas:\n",
        "    print(fila)"
      ],
      "execution_count": 1,
      "outputs": [
        {
          "output_type": "stream",
          "name": "stdout",
          "text": [
            "Número de actores: 11\n",
            "Número de tomas: 35\n",
            "Matriz de actores/tomas:\n",
            "[0, 0, 1, 0, 1, 0, 1, 1, 1, 1, 0, 1, 0, 1, 0, 0, 1, 0, 0, 0, 0, 0, 1, 0, 1, 0, 0, 1, 0, 0, 0, 1, 0, 1, 1]\n",
            "[0, 0, 1, 1, 0, 1, 0, 0, 0, 1, 1, 0, 1, 0, 0, 1, 0, 0, 0, 1, 1, 0, 1, 1, 0, 0, 1, 0, 1, 0, 0, 0, 1, 1, 0]\n",
            "[0, 1, 0, 1, 0, 0, 0, 1, 1, 1, 1, 0, 0, 1, 1, 1, 0, 1, 0, 0, 1, 0, 0, 0, 0, 1, 1, 0, 0, 0, 0, 1, 0, 1, 0]\n",
            "[1, 0, 0, 1, 1, 0, 1, 0, 0, 1, 0, 0, 1, 1, 0, 1, 1, 1, 1, 1, 0, 0, 1, 1, 1, 0, 0, 1, 0, 1, 0, 0, 1, 1, 0]\n",
            "[1, 0, 0, 0, 0, 0, 1, 1, 1, 1, 0, 0, 0, 0, 0, 0, 0, 1, 1, 0, 1, 1, 0, 0, 0, 1, 0, 1, 0, 1, 1, 1, 1, 1, 1]\n",
            "[0, 1, 0, 0, 0, 0, 1, 1, 0, 1, 0, 1, 1, 0, 0, 1, 1, 0, 0, 0, 0, 0, 1, 0, 0, 1, 0, 1, 0, 1, 0, 1, 1, 1, 0]\n",
            "[1, 1, 1, 0, 1, 0, 0, 0, 1, 0, 0, 0, 1, 1, 0, 0, 0, 0, 0, 1, 1, 1, 1, 0, 0, 1, 0, 0, 0, 0, 0, 0, 0, 0, 1]\n",
            "[0, 1, 0, 0, 0, 0, 0, 1, 1, 0, 1, 0, 1, 1, 0, 1, 1, 1, 0, 0, 1, 0, 0, 0, 0, 0, 0, 1, 0, 0, 1, 0, 1, 1, 0]\n",
            "[0, 1, 1, 1, 0, 0, 0, 0, 0, 1, 1, 1, 1, 1, 1, 1, 0, 1, 1, 1, 0, 1, 0, 0, 1, 1, 1, 1, 1, 0, 1, 1, 0, 1, 1]\n",
            "[1, 1, 0, 0, 0, 0, 0, 1, 0, 1, 1, 1, 0, 1, 1, 0, 0, 0, 0, 0, 1, 0, 0, 0, 0, 0, 0, 0, 0, 0, 1, 1, 0, 1, 1]\n",
            "[0, 0, 0, 0, 1, 0, 0, 0, 0, 0, 1, 0, 0, 0, 1, 1, 0, 1, 0, 0, 1, 0, 1, 1, 1, 1, 1, 1, 1, 0, 1, 1, 0, 1, 0]\n"
          ]
        }
      ]
    },
    {
      "cell_type": "markdown",
      "metadata": {
        "id": "zy5ZROmjlGo1"
      },
      "source": [
        "Aplica el algoritmo al juego de datos generado"
      ]
    },
    {
      "cell_type": "markdown",
      "metadata": {
        "id": "_Cmj-PVylMsa"
      },
      "source": [
        "Respuesta"
      ]
    },
    {
      "cell_type": "code",
      "metadata": {
        "id": "Jkx8GeiYlUz1",
        "colab": {
          "base_uri": "https://localhost:8080/"
        },
        "outputId": "eca717f2-edc4-4233-c4c9-f7ce3c529284"
      },
      "source": [
        "import random\n",
        "import pulp\n",
        "\n",
        "# Número aleatorio de actores (entre 5 y 15)\n",
        "num_actores = random.randint(5, 15)\n",
        "\n",
        "# Número aleatorio de tomas (entre 20 y 40)\n",
        "num_tomas = random.randint(20, 40)\n",
        "\n",
        "# Número máximo de tomas (por ejemplo, 6)\n",
        "max_tomas_por_dia = 6\n",
        "\n",
        "# Asegurémonos de que el número aleatorio de tomas no exceda el máximo\n",
        "num_tomas = min(num_tomas, max_tomas_por_dia * num_actores)\n",
        "\n",
        "# Matriz de actores/tomas aleatoria\n",
        "actores_tomas = [[random.randint(0, 1) for _ in range(num_tomas)] for _ in range(num_actores)]\n",
        "\n",
        "# Imprime los datos de entrada generados\n",
        "print(\"Número de actores:\", num_actores)\n",
        "print(\"Número de tomas:\", num_tomas)\n",
        "print(\"Matriz de actores/tomas:\")\n",
        "\n",
        "# Crear un problema de minimización de PuLP\n",
        "problema = pulp.LpProblem(\"PlanificacionDoblaje\", pulp.LpMinimize)\n",
        "\n",
        "# Variables binarias para representar si un actor trabaja en una toma\n",
        "trabaja = pulp.LpVariable.dicts(\"Trabaja\", [(i, j) for i in range(num_actores) for j in range(num_tomas)], 0, 1, pulp.LpBinary)\n",
        "print(trabaja)\n",
        "\n",
        "# Función objetivo: minimizar el costo total\n",
        "problema += pulp.lpSum(trabaja[(i, j)] for i in range(num_actores) for j in range(num_tomas))\n",
        "\n",
        "# Restricción 1: Cada toma debe ser cubierta por un grupo de actores\n",
        "for j in range(num_tomas):\n",
        "    problema += pulp.lpSum(trabaja[(i, j)] for i in range(num_actores)) >= 1\n",
        "\n",
        "# Restricción 2: No más de 6 tomas por día\n",
        "for j in range(num_tomas):\n",
        "    problema += pulp.lpSum(trabaja[(i, j)] for i in range(num_actores)) <= max_tomas_por_dia\n",
        "\n",
        "# Resuelve el problema\n",
        "problema.solve()\n",
        "\n",
        "# Imprime la solución\n",
        "print(\"Status:\", pulp.LpStatus[problema.status])\n",
        "print(\"Costo total:\", pulp.value(problema.objective))\n",
        "\n",
        "# Muestra la planificación por día\n",
        "for j in range(num_tomas):\n",
        "    actores_en_toma = [i for i in range(num_actores) if pulp.value(trabaja[(i, j)]) == 1]\n",
        "    if actores_en_toma:\n",
        "        print(f\"Toma {j + 1}: Actores {actores_en_toma}\")"
      ],
      "execution_count": 6,
      "outputs": [
        {
          "output_type": "stream",
          "name": "stdout",
          "text": [
            "Número de actores: 10\n",
            "Número de tomas: 29\n",
            "Matriz de actores/tomas:\n",
            "{(0, 0): Trabaja_(0,_0), (0, 1): Trabaja_(0,_1), (0, 2): Trabaja_(0,_2), (0, 3): Trabaja_(0,_3), (0, 4): Trabaja_(0,_4), (0, 5): Trabaja_(0,_5), (0, 6): Trabaja_(0,_6), (0, 7): Trabaja_(0,_7), (0, 8): Trabaja_(0,_8), (0, 9): Trabaja_(0,_9), (0, 10): Trabaja_(0,_10), (0, 11): Trabaja_(0,_11), (0, 12): Trabaja_(0,_12), (0, 13): Trabaja_(0,_13), (0, 14): Trabaja_(0,_14), (0, 15): Trabaja_(0,_15), (0, 16): Trabaja_(0,_16), (0, 17): Trabaja_(0,_17), (0, 18): Trabaja_(0,_18), (0, 19): Trabaja_(0,_19), (0, 20): Trabaja_(0,_20), (0, 21): Trabaja_(0,_21), (0, 22): Trabaja_(0,_22), (0, 23): Trabaja_(0,_23), (0, 24): Trabaja_(0,_24), (0, 25): Trabaja_(0,_25), (0, 26): Trabaja_(0,_26), (0, 27): Trabaja_(0,_27), (0, 28): Trabaja_(0,_28), (1, 0): Trabaja_(1,_0), (1, 1): Trabaja_(1,_1), (1, 2): Trabaja_(1,_2), (1, 3): Trabaja_(1,_3), (1, 4): Trabaja_(1,_4), (1, 5): Trabaja_(1,_5), (1, 6): Trabaja_(1,_6), (1, 7): Trabaja_(1,_7), (1, 8): Trabaja_(1,_8), (1, 9): Trabaja_(1,_9), (1, 10): Trabaja_(1,_10), (1, 11): Trabaja_(1,_11), (1, 12): Trabaja_(1,_12), (1, 13): Trabaja_(1,_13), (1, 14): Trabaja_(1,_14), (1, 15): Trabaja_(1,_15), (1, 16): Trabaja_(1,_16), (1, 17): Trabaja_(1,_17), (1, 18): Trabaja_(1,_18), (1, 19): Trabaja_(1,_19), (1, 20): Trabaja_(1,_20), (1, 21): Trabaja_(1,_21), (1, 22): Trabaja_(1,_22), (1, 23): Trabaja_(1,_23), (1, 24): Trabaja_(1,_24), (1, 25): Trabaja_(1,_25), (1, 26): Trabaja_(1,_26), (1, 27): Trabaja_(1,_27), (1, 28): Trabaja_(1,_28), (2, 0): Trabaja_(2,_0), (2, 1): Trabaja_(2,_1), (2, 2): Trabaja_(2,_2), (2, 3): Trabaja_(2,_3), (2, 4): Trabaja_(2,_4), (2, 5): Trabaja_(2,_5), (2, 6): Trabaja_(2,_6), (2, 7): Trabaja_(2,_7), (2, 8): Trabaja_(2,_8), (2, 9): Trabaja_(2,_9), (2, 10): Trabaja_(2,_10), (2, 11): Trabaja_(2,_11), (2, 12): Trabaja_(2,_12), (2, 13): Trabaja_(2,_13), (2, 14): Trabaja_(2,_14), (2, 15): Trabaja_(2,_15), (2, 16): Trabaja_(2,_16), (2, 17): Trabaja_(2,_17), (2, 18): Trabaja_(2,_18), (2, 19): Trabaja_(2,_19), (2, 20): Trabaja_(2,_20), (2, 21): Trabaja_(2,_21), (2, 22): Trabaja_(2,_22), (2, 23): Trabaja_(2,_23), (2, 24): Trabaja_(2,_24), (2, 25): Trabaja_(2,_25), (2, 26): Trabaja_(2,_26), (2, 27): Trabaja_(2,_27), (2, 28): Trabaja_(2,_28), (3, 0): Trabaja_(3,_0), (3, 1): Trabaja_(3,_1), (3, 2): Trabaja_(3,_2), (3, 3): Trabaja_(3,_3), (3, 4): Trabaja_(3,_4), (3, 5): Trabaja_(3,_5), (3, 6): Trabaja_(3,_6), (3, 7): Trabaja_(3,_7), (3, 8): Trabaja_(3,_8), (3, 9): Trabaja_(3,_9), (3, 10): Trabaja_(3,_10), (3, 11): Trabaja_(3,_11), (3, 12): Trabaja_(3,_12), (3, 13): Trabaja_(3,_13), (3, 14): Trabaja_(3,_14), (3, 15): Trabaja_(3,_15), (3, 16): Trabaja_(3,_16), (3, 17): Trabaja_(3,_17), (3, 18): Trabaja_(3,_18), (3, 19): Trabaja_(3,_19), (3, 20): Trabaja_(3,_20), (3, 21): Trabaja_(3,_21), (3, 22): Trabaja_(3,_22), (3, 23): Trabaja_(3,_23), (3, 24): Trabaja_(3,_24), (3, 25): Trabaja_(3,_25), (3, 26): Trabaja_(3,_26), (3, 27): Trabaja_(3,_27), (3, 28): Trabaja_(3,_28), (4, 0): Trabaja_(4,_0), (4, 1): Trabaja_(4,_1), (4, 2): Trabaja_(4,_2), (4, 3): Trabaja_(4,_3), (4, 4): Trabaja_(4,_4), (4, 5): Trabaja_(4,_5), (4, 6): Trabaja_(4,_6), (4, 7): Trabaja_(4,_7), (4, 8): Trabaja_(4,_8), (4, 9): Trabaja_(4,_9), (4, 10): Trabaja_(4,_10), (4, 11): Trabaja_(4,_11), (4, 12): Trabaja_(4,_12), (4, 13): Trabaja_(4,_13), (4, 14): Trabaja_(4,_14), (4, 15): Trabaja_(4,_15), (4, 16): Trabaja_(4,_16), (4, 17): Trabaja_(4,_17), (4, 18): Trabaja_(4,_18), (4, 19): Trabaja_(4,_19), (4, 20): Trabaja_(4,_20), (4, 21): Trabaja_(4,_21), (4, 22): Trabaja_(4,_22), (4, 23): Trabaja_(4,_23), (4, 24): Trabaja_(4,_24), (4, 25): Trabaja_(4,_25), (4, 26): Trabaja_(4,_26), (4, 27): Trabaja_(4,_27), (4, 28): Trabaja_(4,_28), (5, 0): Trabaja_(5,_0), (5, 1): Trabaja_(5,_1), (5, 2): Trabaja_(5,_2), (5, 3): Trabaja_(5,_3), (5, 4): Trabaja_(5,_4), (5, 5): Trabaja_(5,_5), (5, 6): Trabaja_(5,_6), (5, 7): Trabaja_(5,_7), (5, 8): Trabaja_(5,_8), (5, 9): Trabaja_(5,_9), (5, 10): Trabaja_(5,_10), (5, 11): Trabaja_(5,_11), (5, 12): Trabaja_(5,_12), (5, 13): Trabaja_(5,_13), (5, 14): Trabaja_(5,_14), (5, 15): Trabaja_(5,_15), (5, 16): Trabaja_(5,_16), (5, 17): Trabaja_(5,_17), (5, 18): Trabaja_(5,_18), (5, 19): Trabaja_(5,_19), (5, 20): Trabaja_(5,_20), (5, 21): Trabaja_(5,_21), (5, 22): Trabaja_(5,_22), (5, 23): Trabaja_(5,_23), (5, 24): Trabaja_(5,_24), (5, 25): Trabaja_(5,_25), (5, 26): Trabaja_(5,_26), (5, 27): Trabaja_(5,_27), (5, 28): Trabaja_(5,_28), (6, 0): Trabaja_(6,_0), (6, 1): Trabaja_(6,_1), (6, 2): Trabaja_(6,_2), (6, 3): Trabaja_(6,_3), (6, 4): Trabaja_(6,_4), (6, 5): Trabaja_(6,_5), (6, 6): Trabaja_(6,_6), (6, 7): Trabaja_(6,_7), (6, 8): Trabaja_(6,_8), (6, 9): Trabaja_(6,_9), (6, 10): Trabaja_(6,_10), (6, 11): Trabaja_(6,_11), (6, 12): Trabaja_(6,_12), (6, 13): Trabaja_(6,_13), (6, 14): Trabaja_(6,_14), (6, 15): Trabaja_(6,_15), (6, 16): Trabaja_(6,_16), (6, 17): Trabaja_(6,_17), (6, 18): Trabaja_(6,_18), (6, 19): Trabaja_(6,_19), (6, 20): Trabaja_(6,_20), (6, 21): Trabaja_(6,_21), (6, 22): Trabaja_(6,_22), (6, 23): Trabaja_(6,_23), (6, 24): Trabaja_(6,_24), (6, 25): Trabaja_(6,_25), (6, 26): Trabaja_(6,_26), (6, 27): Trabaja_(6,_27), (6, 28): Trabaja_(6,_28), (7, 0): Trabaja_(7,_0), (7, 1): Trabaja_(7,_1), (7, 2): Trabaja_(7,_2), (7, 3): Trabaja_(7,_3), (7, 4): Trabaja_(7,_4), (7, 5): Trabaja_(7,_5), (7, 6): Trabaja_(7,_6), (7, 7): Trabaja_(7,_7), (7, 8): Trabaja_(7,_8), (7, 9): Trabaja_(7,_9), (7, 10): Trabaja_(7,_10), (7, 11): Trabaja_(7,_11), (7, 12): Trabaja_(7,_12), (7, 13): Trabaja_(7,_13), (7, 14): Trabaja_(7,_14), (7, 15): Trabaja_(7,_15), (7, 16): Trabaja_(7,_16), (7, 17): Trabaja_(7,_17), (7, 18): Trabaja_(7,_18), (7, 19): Trabaja_(7,_19), (7, 20): Trabaja_(7,_20), (7, 21): Trabaja_(7,_21), (7, 22): Trabaja_(7,_22), (7, 23): Trabaja_(7,_23), (7, 24): Trabaja_(7,_24), (7, 25): Trabaja_(7,_25), (7, 26): Trabaja_(7,_26), (7, 27): Trabaja_(7,_27), (7, 28): Trabaja_(7,_28), (8, 0): Trabaja_(8,_0), (8, 1): Trabaja_(8,_1), (8, 2): Trabaja_(8,_2), (8, 3): Trabaja_(8,_3), (8, 4): Trabaja_(8,_4), (8, 5): Trabaja_(8,_5), (8, 6): Trabaja_(8,_6), (8, 7): Trabaja_(8,_7), (8, 8): Trabaja_(8,_8), (8, 9): Trabaja_(8,_9), (8, 10): Trabaja_(8,_10), (8, 11): Trabaja_(8,_11), (8, 12): Trabaja_(8,_12), (8, 13): Trabaja_(8,_13), (8, 14): Trabaja_(8,_14), (8, 15): Trabaja_(8,_15), (8, 16): Trabaja_(8,_16), (8, 17): Trabaja_(8,_17), (8, 18): Trabaja_(8,_18), (8, 19): Trabaja_(8,_19), (8, 20): Trabaja_(8,_20), (8, 21): Trabaja_(8,_21), (8, 22): Trabaja_(8,_22), (8, 23): Trabaja_(8,_23), (8, 24): Trabaja_(8,_24), (8, 25): Trabaja_(8,_25), (8, 26): Trabaja_(8,_26), (8, 27): Trabaja_(8,_27), (8, 28): Trabaja_(8,_28), (9, 0): Trabaja_(9,_0), (9, 1): Trabaja_(9,_1), (9, 2): Trabaja_(9,_2), (9, 3): Trabaja_(9,_3), (9, 4): Trabaja_(9,_4), (9, 5): Trabaja_(9,_5), (9, 6): Trabaja_(9,_6), (9, 7): Trabaja_(9,_7), (9, 8): Trabaja_(9,_8), (9, 9): Trabaja_(9,_9), (9, 10): Trabaja_(9,_10), (9, 11): Trabaja_(9,_11), (9, 12): Trabaja_(9,_12), (9, 13): Trabaja_(9,_13), (9, 14): Trabaja_(9,_14), (9, 15): Trabaja_(9,_15), (9, 16): Trabaja_(9,_16), (9, 17): Trabaja_(9,_17), (9, 18): Trabaja_(9,_18), (9, 19): Trabaja_(9,_19), (9, 20): Trabaja_(9,_20), (9, 21): Trabaja_(9,_21), (9, 22): Trabaja_(9,_22), (9, 23): Trabaja_(9,_23), (9, 24): Trabaja_(9,_24), (9, 25): Trabaja_(9,_25), (9, 26): Trabaja_(9,_26), (9, 27): Trabaja_(9,_27), (9, 28): Trabaja_(9,_28)}\n",
            "Status: Optimal\n",
            "Costo total: 29.0\n",
            "Toma 1: Actores [2]\n",
            "Toma 2: Actores [4]\n",
            "Toma 3: Actores [6]\n",
            "Toma 4: Actores [9]\n",
            "Toma 5: Actores [7]\n",
            "Toma 6: Actores [0]\n",
            "Toma 7: Actores [3]\n",
            "Toma 8: Actores [2]\n",
            "Toma 9: Actores [7]\n",
            "Toma 10: Actores [3]\n",
            "Toma 11: Actores [1]\n",
            "Toma 12: Actores [0]\n",
            "Toma 13: Actores [5]\n",
            "Toma 14: Actores [7]\n",
            "Toma 15: Actores [1]\n",
            "Toma 16: Actores [9]\n",
            "Toma 17: Actores [3]\n",
            "Toma 18: Actores [3]\n",
            "Toma 19: Actores [0]\n",
            "Toma 20: Actores [7]\n",
            "Toma 21: Actores [3]\n",
            "Toma 22: Actores [9]\n",
            "Toma 23: Actores [7]\n",
            "Toma 24: Actores [3]\n",
            "Toma 25: Actores [2]\n",
            "Toma 26: Actores [2]\n",
            "Toma 27: Actores [3]\n",
            "Toma 28: Actores [3]\n",
            "Toma 29: Actores [5]\n"
          ]
        }
      ]
    },
    {
      "cell_type": "markdown",
      "metadata": {
        "id": "eTFWUJQrtGcv"
      },
      "source": [
        "Enumera las referencias que has utilizado(si ha sido necesario) para llevar a cabo el trabajo"
      ]
    },
    {
      "cell_type": "markdown",
      "metadata": {
        "id": "YKQ_mRBttWsP"
      },
      "source": [
        "Respuesta\n",
        "\n",
        "* R. R. Díez, \"Algoritmos de Optimización,\" en Máster Universitario en Inteligencia Artificial, Universidad Internacional de Valencia, 2022.\n",
        "\n",
        "* G. Brassard y P. Bratley, \"Fundamentos de Algoritmia,\" Montréal, Canadá: Prentice Hall."
      ]
    },
    {
      "cell_type": "markdown",
      "metadata": {
        "id": "kAkDPUyRtYyH"
      },
      "source": [
        "Describe brevemente las lineas de como crees que es posible avanzar en el estudio del problema. Ten en cuenta incluso posibles variaciones del problema y/o variaciones al alza del tamaño"
      ]
    },
    {
      "cell_type": "markdown",
      "metadata": {
        "id": "IE0uZmo-tZu-"
      },
      "source": [
        "Respuesta"
      ]
    }
  ]
}