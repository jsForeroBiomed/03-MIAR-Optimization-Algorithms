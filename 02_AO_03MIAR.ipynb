{
  "cells": [
    {
      "cell_type": "markdown",
      "metadata": {
        "id": "view-in-github",
        "colab_type": "text"
      },
      "source": [
        "<a href=\"https://colab.research.google.com/github/jsForeroBiomed/03-MIAR-Optimization-Algorithms/blob/main/02_AO_03MIAR.ipynb\" target=\"_parent\"><img src=\"https://colab.research.google.com/assets/colab-badge.svg\" alt=\"Open In Colab\"/></a>"
      ]
    },
    {
      "cell_type": "markdown",
      "id": "5bae1ac7",
      "metadata": {
        "id": "5bae1ac7"
      },
      "source": [
        "<font color=\"#002856\"><h1 align=\"left\">Algoritmos de optimización</h1></font>\n",
        "<font color=\"#002856\"><h2 align=\"left\">VC-2 Diseño de algoritmos</h2></font>\n",
        "\n",
        "#### Profesor: Juan Francisco Vallalta Rueda\n",
        "---"
      ]
    },
    {
      "cell_type": "markdown",
      "id": "d6a8c0a8",
      "metadata": {
        "id": "d6a8c0a8"
      },
      "source": [
        "# Medir el tiempo de ejecución"
      ]
    },
    {
      "cell_type": "markdown",
      "id": "e37d9b38",
      "metadata": {
        "id": "e37d9b38"
      },
      "source": [
        "Medir el tiempo de ejecución de un programa es una tarea muy importante, ya que programar no sólo consiste en crear código que funcione, sino código que pueda ser ejecutado en un tiempo razonable.\n",
        "\n",
        "La librería **time** nos permite medir el tiempo de ejecución en Python, utilizando el método  `time()`."
      ]
    },
    {
      "cell_type": "code",
      "execution_count": null,
      "id": "dc20e4d2",
      "metadata": {
        "id": "dc20e4d2",
        "outputId": "429c6895-d6bd-41ed-d4a7-212c0a5fc0d4"
      },
      "outputs": [
        {
          "name": "stdout",
          "output_type": "stream",
          "text": [
            "10.002641201019287\n"
          ]
        }
      ],
      "source": [
        "# Medida del tiempo de ejecucion con time\n",
        "import time\n",
        "inicio = time.time()\n",
        "\n",
        "# Código a medir\n",
        "time.sleep(10)\n",
        "# -------------\n",
        "\n",
        "fin = time.time()\n",
        "print(fin-inicio) # 1.0005340576171875"
      ]
    },
    {
      "cell_type": "markdown",
      "id": "52b5fc0a",
      "metadata": {
        "id": "52b5fc0a"
      },
      "source": [
        "# Generación de números enteros aleatorios"
      ]
    },
    {
      "cell_type": "code",
      "execution_count": null,
      "id": "ca5148de",
      "metadata": {
        "id": "ca5148de",
        "outputId": "2ef7bae4-7da6-4b48-b5d8-9ef855fb74c6"
      },
      "outputs": [
        {
          "name": "stdout",
          "output_type": "stream",
          "text": [
            "[695, 385, 928, 730, 82, 906, 416, 429, 707, 59, 556, 643, 489, 851, 385, 940, 465, 515, 942, 745, 219, 305, 8, 943, 218, 371, 483, 174, 136, 257, 482, 94, 385, 201, 530, 522, 460, 204, 882, 754, 24, 341, 576, 946, 97, 758, 491, 270, 746, 12, 652, 158, 483, 623, 710, 665, 856, 935, 963, 342, 247, 890, 673, 143, 54, 905, 868, 522, 1, 248, 690, 720, 363, 878, 567, 586, 593, 901, 574, 835, 853, 915, 188, 937, 489, 182, 228, 948, 247, 291, 223, 602, 741, 761, 199, 691, 72, 718, 965, 583]\n"
          ]
        }
      ],
      "source": [
        "# Mödulo random\n",
        "import random\n",
        "\n",
        "# Inicialización del rango de números a generar\n",
        "inicio= 0\n",
        "fin = 1000\n",
        "cantidad = 100\n",
        "\n",
        "# Lista de números aleatorios\n",
        "numeros_aleatorios = [random.randint(inicio,fin) for i in range(cantidad)]\n",
        "print(numeros_aleatorios)"
      ]
    },
    {
      "cell_type": "markdown",
      "id": "c43d5913",
      "metadata": {
        "id": "c43d5913"
      },
      "source": [
        "# Ejercicios\n",
        "\n",
        "## Implementa  una solución para el problema del cambio de moneda en un sistema monetario con las siguientes monedas: {1, 2, 5, 10, 20 , 50}"
      ]
    },
    {
      "cell_type": "markdown",
      "source": [
        "Algoritmo voraz (Greedy): Un paradigma algorítmico que busca encontrar una solución a un problema encontrando una solución óptima local en cada etapa, con la esperanza de encontrar un óptimo global. No siempre se consigue obtener el óptimo global.\n",
        "\n"
      ],
      "metadata": {
        "id": "RrOdwszh97qz"
      },
      "id": "RrOdwszh97qz"
    },
    {
      "cell_type": "code",
      "execution_count": null,
      "id": "af0a8a64",
      "metadata": {
        "id": "af0a8a64"
      },
      "outputs": [],
      "source": [
        "# Problema de cambio de monedas\n",
        "\n",
        "def seleccionar_monedas(lista_monedas: list, cambio: int) -> list:\n",
        "  \"\"\"Encuentra la mejor alternativa para dar `cambio` de cambio con la menor \\\n",
        "  cantidad de monedas disponibles, según la lista `lista_monedas`\"\"\"\n",
        "  sort_lista = sorted(lista_monedas, reverse=True)\n",
        "  monedas_seleccionadas = []\n",
        "  index = 0\n",
        "\n",
        "  while cambio != 0:\n",
        "    if cambio >= sort_lista[index]:\n",
        "      monedas_seleccionadas.append(sort_lista[index])\n",
        "      cambio -= sort_lista[index]\n",
        "    else:\n",
        "      index += 1\n",
        "\n",
        "  return monedas_seleccionadas"
      ]
    },
    {
      "cell_type": "code",
      "source": [
        "%%time\n",
        "list_monedas = seleccionar_monedas([1, 2, 5, 10, 20, 50], 146)\n",
        "print(f'Monedas escogidas: {list_monedas}')"
      ],
      "metadata": {
        "colab": {
          "base_uri": "https://localhost:8080/"
        },
        "id": "rlUm5fO4GIwj",
        "outputId": "ddd0db6e-f0be-4d17-c5af-84f3186a8402"
      },
      "id": "rlUm5fO4GIwj",
      "execution_count": null,
      "outputs": [
        {
          "output_type": "stream",
          "name": "stdout",
          "text": [
            "Monedas escogidas: [50, 50, 20, 20, 5, 1]\n",
            "CPU times: user 143 µs, sys: 0 ns, total: 143 µs\n",
            "Wall time: 150 µs\n"
          ]
        }
      ]
    },
    {
      "cell_type": "markdown",
      "id": "9cbf8561",
      "metadata": {
        "id": "9cbf8561"
      },
      "source": [
        "# Reto VC-2\n",
        "\n",
        "## Opción 1: Implementa una solución al problema de las 8 reinas en un tablero 8x8"
      ]
    },
    {
      "cell_type": "code",
      "execution_count": 1,
      "id": "288b5db6",
      "metadata": {
        "id": "288b5db6"
      },
      "outputs": [],
      "source": [
        "# Ocho reinas\n",
        "# Escribe aquí tu código\n",
        "from typing import List\n",
        "import numpy as np"
      ]
    },
    {
      "cell_type": "code",
      "source": [
        "class Solution:\n",
        "  def solve_n_queens(self, n: int) -> List[List[str]]:\n",
        "    col = set()\n",
        "    pos_diag = set()\n",
        "    neg_diag = set()\n",
        "\n",
        "    result = []\n",
        "    board = [[' . '] * n for i in range(n)]\n",
        "\n",
        "    def backtrack(r):\n",
        "      # Si se logra que `r` sea igual a `n`, se habrá encontrado la solución\n",
        "      if r == n:\n",
        "        copy_board = [''.join(row) for row in board]\n",
        "        result.append(copy_board)\n",
        "        return\n",
        "\n",
        "      for c in range(n):\n",
        "        if c in col or (r + c) in pos_diag or (r - c) in neg_diag:\n",
        "          continue\n",
        "\n",
        "        col.add(c)\n",
        "        pos_diag.add(r + c)\n",
        "        neg_diag.add(r - c)\n",
        "        board[r][c] = ' Q '\n",
        "\n",
        "        backtrack(r + 1)\n",
        "\n",
        "        col.remove(c)\n",
        "        pos_diag.remove(r + c)\n",
        "        neg_diag.remove(r - c)\n",
        "        board[r][c] = ' . '\n",
        "    backtrack(0)\n",
        "    return result\n"
      ],
      "metadata": {
        "id": "pj-Ordz3vE3i"
      },
      "id": "pj-Ordz3vE3i",
      "execution_count": 30,
      "outputs": []
    },
    {
      "cell_type": "code",
      "source": [
        "eight_queens = Solution()\n",
        "solution = eight_queens.solve_n_queens(8)\n",
        "\n",
        "print(*solution[0], sep='\\n')\n"
      ],
      "metadata": {
        "colab": {
          "base_uri": "https://localhost:8080/"
        },
        "id": "N1ndx0jN8mtH",
        "outputId": "34874677-a080-4efc-fab7-a5dbd3f268ed"
      },
      "id": "N1ndx0jN8mtH",
      "execution_count": 32,
      "outputs": [
        {
          "output_type": "stream",
          "name": "stdout",
          "text": [
            " Q  .  .  .  .  .  .  . \n",
            " .  .  .  .  Q  .  .  . \n",
            " .  .  .  .  .  .  .  Q \n",
            " .  .  .  .  .  Q  .  . \n",
            " .  .  Q  .  .  .  .  . \n",
            " .  .  .  .  .  .  Q  . \n",
            " .  Q  .  .  .  .  .  . \n",
            " .  .  .  Q  .  .  .  . \n"
          ]
        }
      ]
    },
    {
      "cell_type": "markdown",
      "source": [],
      "metadata": {
        "id": "Z5b02RPo6-HW"
      },
      "id": "Z5b02RPo6-HW"
    }
  ],
  "metadata": {
    "kernelspec": {
      "display_name": "Python 3 (ipykernel)",
      "language": "python",
      "name": "python3"
    },
    "language_info": {
      "codemirror_mode": {
        "name": "ipython",
        "version": 3
      },
      "file_extension": ".py",
      "mimetype": "text/x-python",
      "name": "python",
      "nbconvert_exporter": "python",
      "pygments_lexer": "ipython3",
      "version": "3.9.7"
    },
    "colab": {
      "provenance": [],
      "include_colab_link": true
    }
  },
  "nbformat": 4,
  "nbformat_minor": 5
}