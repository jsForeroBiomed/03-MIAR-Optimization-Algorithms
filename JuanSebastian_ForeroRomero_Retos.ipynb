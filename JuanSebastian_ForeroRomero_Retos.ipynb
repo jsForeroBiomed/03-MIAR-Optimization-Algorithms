{
  "nbformat": 4,
  "nbformat_minor": 0,
  "metadata": {
    "colab": {
      "provenance": [],
      "authorship_tag": "ABX9TyOeDXwz+3aZavMBNhqeaCQI",
      "include_colab_link": true
    },
    "kernelspec": {
      "name": "python3",
      "display_name": "Python 3"
    },
    "language_info": {
      "name": "python"
    }
  },
  "cells": [
    {
      "cell_type": "markdown",
      "metadata": {
        "id": "view-in-github",
        "colab_type": "text"
      },
      "source": [
        "<a href=\"https://colab.research.google.com/github/jsForeroBiomed/03-MIAR-Optimization-Algorithms/blob/main/JuanSebastian_ForeroRomero_Retos.ipynb\" target=\"_parent\"><img src=\"https://colab.research.google.com/assets/colab-badge.svg\" alt=\"Open In Colab\"/></a>"
      ]
    },
    {
      "cell_type": "code",
      "execution_count": null,
      "metadata": {
        "id": "Ae8VxBEyh96V"
      },
      "outputs": [],
      "source": [
        "#Algoritmos - Colonia de Hormigas\n",
        "\n",
        "URL: https://colab.research.google.com/drive/1p0L0TY8MUp5tdQjilR3RnIpIYSCbjwxi?usp=sharing\n",
        "\n",
        "GitHub:"
      ]
    },
    {
      "cell_type": "markdown",
      "source": [
        "#Criba de Eratóstenes"
      ],
      "metadata": {
        "id": "CuisxFMql0M9"
      }
    },
    {
      "cell_type": "code",
      "source": [
        "def criba_eratostenes(n):\n",
        "    es_primo = [True] * (n + 1)\n",
        "    es_primo[0] = es_primo[1] = False\n",
        "\n",
        "    for p in range(2, int(n**0.5) + 1):\n",
        "        if es_primo[p]:\n",
        "            for i in range(p * p, n + 1, p):\n",
        "                es_primo[i] = False\n",
        "\n",
        "    primos = [i for i in range(2, n + 1) if es_primo[i]]\n",
        "    return primos\n",
        "\n",
        "\n",
        "limite_superior = 100\n",
        "primos_hasta_limite = criba_eratostenes(limite_superior)\n",
        "print(primos_hasta_limite)"
      ],
      "metadata": {
        "colab": {
          "base_uri": "https://localhost:8080/"
        },
        "id": "JuWAEgL3l2IM",
        "outputId": "4940459b-6cb1-4422-9800-baefba1c6047"
      },
      "execution_count": null,
      "outputs": [
        {
          "output_type": "stream",
          "name": "stdout",
          "text": [
            "[2, 3, 5, 7, 11, 13, 17, 19, 23, 29, 31, 37, 41, 43, 47, 53, 59, 61, 67, 71, 73, 79, 83, 89, 97]\n"
          ]
        }
      ]
    },
    {
      "cell_type": "markdown",
      "source": [
        "#Problema de las ocho reinas"
      ],
      "metadata": {
        "id": "VypfZO8lmrdB"
      }
    },
    {
      "cell_type": "code",
      "source": [
        "def es_seguro(tablero, fila, columna):\n",
        "    \"\"\"Verifica si es seguro colocar una reina en la fila y columna\n",
        "    especificadas.\"\"\"\n",
        "\n",
        "    # Verificar la columna\n",
        "    for i in range(fila):\n",
        "        if tablero[i][columna] == 1:\n",
        "            return False\n",
        "\n",
        "    # Verificar la diagonal superior izquierda\n",
        "    for i, j in zip(range(fila, -1, -1), range(columna, -1, -1)):\n",
        "        if tablero[i][j] == 1:\n",
        "            return False\n",
        "\n",
        "    # Verificar la diagonal superior derecha\n",
        "    for i, j in zip(range(fila, -1, -1), range(columna, len(tablero))):\n",
        "        if tablero[i][j] == 1:\n",
        "            return False\n",
        "\n",
        "    return True\n",
        "\n",
        "def resolver_ocho_reinas(tablero, fila):\n",
        "    \"\"\"Resuelve el problema de las Ocho Reinas utilizando backtracking.\"\"\"\n",
        "\n",
        "    if fila >= len(tablero):\n",
        "        # Todas las reinas han sido colocadas con éxito\n",
        "        return True\n",
        "\n",
        "    for columna in range(len(tablero)):\n",
        "        if es_seguro(tablero, fila, columna):\n",
        "            tablero[fila][columna] = 1  # Colocar una reina en la casilla\n",
        "            if resolver_ocho_reinas(tablero, fila + 1):\n",
        "                return True\n",
        "            tablero[fila][columna] = 0  # Si no funciona, retroceder y probar otra casilla\n",
        "\n",
        "    return False\n",
        "\n",
        "def imprimir_tablero(tablero):\n",
        "    for fila in tablero:\n",
        "        print(\" \".join([\"Q\" if c == 1 else \".\" for c in fila]))\n",
        "\n",
        "def solucionar_ocho_reinas():\n",
        "    tamano_tablero = 8\n",
        "    tablero = [[0 for _ in range(tamano_tablero)] for _ in range(tamano_tablero)]\n",
        "\n",
        "    if resolver_ocho_reinas(tablero, 0):\n",
        "        print(\"Solución encontrada:\")\n",
        "        imprimir_tablero(tablero)\n",
        "    else:\n",
        "        print(\"No se encontró solución.\")\n",
        "\n",
        "# Llamar a la función para encontrar la solución\n",
        "solucionar_ocho_reinas()"
      ],
      "metadata": {
        "colab": {
          "base_uri": "https://localhost:8080/"
        },
        "id": "LNhAiEoll3QJ",
        "outputId": "3d8ce842-9011-412d-c062-9ad3f30f2e78"
      },
      "execution_count": null,
      "outputs": [
        {
          "output_type": "stream",
          "name": "stdout",
          "text": [
            "Solución encontrada:\n",
            "Q . . . . . . .\n",
            ". . . . Q . . .\n",
            ". . . . . . . Q\n",
            ". . . . . Q . .\n",
            ". . Q . . . . .\n",
            ". . . . . . Q .\n",
            ". Q . . . . . .\n",
            ". . . Q . . . .\n"
          ]
        }
      ]
    },
    {
      "cell_type": "markdown",
      "source": [
        "#Torres de Hanoi"
      ],
      "metadata": {
        "id": "MReXB7stnk-1"
      }
    },
    {
      "cell_type": "code",
      "source": [
        "def torres_de_hanoi(numero_discos, origen, destino, auxiliar):\n",
        "    if numero_discos == 1:\n",
        "        print(f\"Mover disco 1 desde el poste {origen} al poste {destino}\")\n",
        "        return\n",
        "    torres_de_hanoi(numero_discos - 1, origen, auxiliar, destino)\n",
        "    print(f\"Mover disco {numero_discos} desde el poste {origen} al poste {destino}\")\n",
        "    torres_de_hanoi(numero_discos - 1, auxiliar, destino, origen)\n",
        "\n",
        "def resolver_torres_de_hanoi(numero_discos):\n",
        "    print(f\"Resolviendo las Torres de Hanoi para {numero_discos} discos:\")\n",
        "    torres_de_hanoi(numero_discos, 'A', 'C', 'B')\n",
        "\n",
        "# Llamar a la función para resolver las Torres de Hanoi\n",
        "numero_de_discos = 4\n",
        "resolver_torres_de_hanoi(numero_de_discos)\n"
      ],
      "metadata": {
        "colab": {
          "base_uri": "https://localhost:8080/"
        },
        "id": "lIcFEkaImu4h",
        "outputId": "6aa6617b-2284-4f3b-f7f3-fd5ca1220222"
      },
      "execution_count": null,
      "outputs": [
        {
          "output_type": "stream",
          "name": "stdout",
          "text": [
            "Resolviendo las Torres de Hanoi para 4 discos:\n",
            "Mover disco 1 desde el poste A al poste B\n",
            "Mover disco 2 desde el poste A al poste C\n",
            "Mover disco 1 desde el poste B al poste C\n",
            "Mover disco 3 desde el poste A al poste B\n",
            "Mover disco 1 desde el poste C al poste A\n",
            "Mover disco 2 desde el poste C al poste B\n",
            "Mover disco 1 desde el poste A al poste B\n",
            "Mover disco 4 desde el poste A al poste C\n",
            "Mover disco 1 desde el poste B al poste C\n",
            "Mover disco 2 desde el poste B al poste A\n",
            "Mover disco 1 desde el poste C al poste A\n",
            "Mover disco 3 desde el poste B al poste C\n",
            "Mover disco 1 desde el poste A al poste B\n",
            "Mover disco 2 desde el poste A al poste C\n",
            "Mover disco 1 desde el poste B al poste C\n"
          ]
        }
      ]
    },
    {
      "cell_type": "markdown",
      "source": [
        "#Descenso del gradiente para la función f(x)=sin(1/2∗x^2−1/4∗y^2+3)∗cos(2∗x+1−e^y)"
      ],
      "metadata": {
        "id": "YyxrlUUzpJhd"
      }
    },
    {
      "cell_type": "code",
      "source": [
        "import numpy as np\n",
        "\n",
        "# Definir la función objetivo\n",
        "def funcion_objetivo(x, y):\n",
        "    return np.sin(1/2 * x**2 - 1/4 * y**2 + 3) * np.cos(2 * x + 1 - np.exp(y))\n",
        "\n",
        "# Definir el gradiente de la función objetivo\n",
        "def gradiente(x, y):\n",
        "    df_dx = x * np.cos(1/2 * x**2 - 1/4 * y**2 + 3) * np.cos(2 * x + 1 - np.exp(y)) - 2 * np.sin(1/2 * x**2 - 1/4 * y**2 + 3) * np.sin(2 * x + 1 - np.exp(y))\n",
        "    df_dy = (1/2 * y * np.sin(1/2 * x**2 - 1/4 * y**2 + 3) * np.cos(2 * x + 1 - np.exp(y))) - np.sin(1/2 * x**2 - 1/4 * y**2 + 3) * np.cos(2 * x + 1 - np.exp(y)) * np.exp(y)\n",
        "    return np.array([df_dx, df_dy])\n",
        "\n",
        "# Algoritmo de descenso del gradiente\n",
        "def descenso_gradiente(learning_rate, num_iteraciones):\n",
        "    # Inicializar punto de partida\n",
        "    punto_inicial = np.array([-1, 1])\n",
        "\n",
        "    for i in range(num_iteraciones):\n",
        "        grad = gradiente(punto_inicial[0], punto_inicial[1])\n",
        "        punto_inicial = punto_inicial - learning_rate * grad\n",
        "        valor_actual = funcion_objetivo(punto_inicial[0], punto_inicial[1])\n",
        "        if (i + 1) % 100 == 0 or i == 0:\n",
        "          print(f'Iteración {i + 1}: Punto = {punto_inicial}, Valor = {valor_actual}')\n",
        "\n",
        "# Parámetros del descenso del gradiente\n",
        "learning_rate = 0.1\n",
        "num_iteraciones = 1000\n",
        "\n",
        "# Ejecutar el descenso del gradiente\n",
        "descenso_gradiente(learning_rate, num_iteraciones)\n"
      ],
      "metadata": {
        "colab": {
          "base_uri": "https://localhost:8080/"
        },
        "id": "JBCFUE-cnnR1",
        "outputId": "6efc292d-2480-4375-9ec8-d54dbbaee28b"
      },
      "execution_count": null,
      "outputs": [
        {
          "output_type": "stream",
          "name": "stdout",
          "text": [
            "Iteración 1: Punto = [-0.92846356  1.02011915], Valor = 0.02583688343756759\n",
            "Iteración 100: Punto = [-0.55698605  0.47331725], Valor = -0.006283134648987269\n",
            "Iteración 200: Punto = [-0.56686203  0.4227551 ], Valor = -0.002278002607940987\n",
            "Iteración 300: Punto = [-0.57113417  0.40106511], Valor = -0.0012130288873698528\n",
            "Iteración 400: Punto = [-0.57359467  0.38866784], Valor = -0.000763186975646707\n",
            "Iteración 500: Punto = [-0.57521415  0.38055247], Valor = -0.0005279896963378262\n",
            "Iteración 600: Punto = [-0.57636814  0.37479287], Valor = -0.0003885489010920668\n",
            "Iteración 700: Punto = [-0.57723533  0.37047788], Valor = -0.00029866973012612514\n",
            "Iteración 800: Punto = [-0.57791245  0.36711679], Valor = -0.00023715933387796805\n",
            "Iteración 900: Punto = [-0.57845671  0.36442045], Valor = -0.0001931187159693348\n",
            "Iteración 1000: Punto = [-0.57890425  0.36220687], Valor = -0.0001604522463250737\n"
          ]
        }
      ]
    },
    {
      "cell_type": "markdown",
      "source": [
        "#Descenso del gradiente para regresión lineal simple"
      ],
      "metadata": {
        "id": "Pc8GDws1rSJN"
      }
    },
    {
      "cell_type": "code",
      "source": [
        "import numpy as np\n",
        "\n",
        "# Generar datos de ejemplo\n",
        "np.random.seed(0)\n",
        "X = 2 * np.random.rand(100, 1)\n",
        "y = 4 + 3 * X + np.random.rand(100, 1)\n",
        "\n",
        "# Inicializar los parámetros m (pendiente) y b (ordenada al origen)\n",
        "m = np.random.randn()\n",
        "b = np.random.randn()\n",
        "\n",
        "# Hiperparámetros del descenso por gradiente\n",
        "learning_rate = 0.01\n",
        "num_iteraciones = 1000\n",
        "\n",
        "# Descenso por gradiente\n",
        "for iteracion in range(num_iteraciones):\n",
        "    # Calcular las predicciones\n",
        "    y_pred = m * X + b\n",
        "\n",
        "    # Calcular el gradiente del MSE con respecto a m y b\n",
        "    gradiente_m = -(2/len(X)) * np.sum(X * (y - y_pred))\n",
        "    gradiente_b = -(2/len(X)) * np.sum(y - y_pred)\n",
        "\n",
        "    # Actualizar los parámetros utilizando el descenso por gradiente\n",
        "    m = m - learning_rate * gradiente_m\n",
        "    b = b - learning_rate * gradiente_b\n",
        "\n",
        "    # Calcular el MSE para monitorear el progreso\n",
        "    mse = np.mean((y - y_pred)**2)\n",
        "\n",
        "    if (iteracion + 1) % 100 == 0 or iteracion == 0:\n",
        "        print(f\"Iteración {iteracion + 1}: MSE = {mse}\")\n",
        "\n",
        "print(f\"Resultado final: m = {m}, b = {b}\")"
      ],
      "metadata": {
        "colab": {
          "base_uri": "https://localhost:8080/"
        },
        "id": "XTsjAODKp8pt",
        "outputId": "0786f8eb-91e3-45e8-c26a-14975f3385ae"
      },
      "execution_count": null,
      "outputs": [
        {
          "output_type": "stream",
          "name": "stdout",
          "text": [
            "Iteración 1: MSE = 55.660037649004096\n",
            "Iteración 100: MSE = 0.8514013325558943\n",
            "Iteración 200: MSE = 0.47630950501035885\n",
            "Iteración 300: MSE = 0.28616909986825545\n",
            "Iteración 400: MSE = 0.18639566006480435\n",
            "Iteración 500: MSE = 0.1340402250145725\n",
            "Iteración 600: MSE = 0.10656706581415408\n",
            "Iteración 700: MSE = 0.09215071198710223\n",
            "Iteración 800: MSE = 0.08458582816174343\n",
            "Iteración 900: MSE = 0.08061620671808901\n",
            "Iteración 1000: MSE = 0.07853317480779066\n",
            "Resultado final: m = 3.047359517721293, b = 4.468954205450892\n"
          ]
        }
      ]
    },
    {
      "cell_type": "markdown",
      "source": [
        "#Búsqueda local implementada en la AG3 (TSP)  con otros operadores de vecindad."
      ],
      "metadata": {
        "id": "PtIcV-gpsdKl"
      }
    },
    {
      "cell_type": "code",
      "source": [
        "!pip install requests    #Hacer llamadas http a paginas de la red\n",
        "!pip install tsplib95    #Modulo para las instancias del problema del TSP"
      ],
      "metadata": {
        "colab": {
          "base_uri": "https://localhost:8080/"
        },
        "id": "UruEPzW-vNQN",
        "outputId": "a10ceb22-820d-437d-88f7-270febce25d9"
      },
      "execution_count": null,
      "outputs": [
        {
          "output_type": "stream",
          "name": "stdout",
          "text": [
            "Requirement already satisfied: requests in /usr/local/lib/python3.10/dist-packages (2.31.0)\n",
            "Requirement already satisfied: charset-normalizer<4,>=2 in /usr/local/lib/python3.10/dist-packages (from requests) (3.2.0)\n",
            "Requirement already satisfied: idna<4,>=2.5 in /usr/local/lib/python3.10/dist-packages (from requests) (3.4)\n",
            "Requirement already satisfied: urllib3<3,>=1.21.1 in /usr/local/lib/python3.10/dist-packages (from requests) (2.0.4)\n",
            "Requirement already satisfied: certifi>=2017.4.17 in /usr/local/lib/python3.10/dist-packages (from requests) (2023.7.22)\n",
            "Collecting tsplib95\n",
            "  Downloading tsplib95-0.7.1-py2.py3-none-any.whl (25 kB)\n",
            "Requirement already satisfied: Click>=6.0 in /usr/local/lib/python3.10/dist-packages (from tsplib95) (8.1.7)\n",
            "Collecting Deprecated~=1.2.9 (from tsplib95)\n",
            "  Downloading Deprecated-1.2.14-py2.py3-none-any.whl (9.6 kB)\n",
            "Collecting networkx~=2.1 (from tsplib95)\n",
            "  Downloading networkx-2.8.8-py3-none-any.whl (2.0 MB)\n",
            "\u001b[2K     \u001b[90m━━━━━━━━━━━━━━━━━━━━━━━━━━━━━━━━━━━━━━━━\u001b[0m \u001b[32m2.0/2.0 MB\u001b[0m \u001b[31m41.3 MB/s\u001b[0m eta \u001b[36m0:00:00\u001b[0m\n",
            "\u001b[?25hCollecting tabulate~=0.8.7 (from tsplib95)\n",
            "  Downloading tabulate-0.8.10-py3-none-any.whl (29 kB)\n",
            "Requirement already satisfied: wrapt<2,>=1.10 in /usr/local/lib/python3.10/dist-packages (from Deprecated~=1.2.9->tsplib95) (1.15.0)\n",
            "Installing collected packages: tabulate, networkx, Deprecated, tsplib95\n",
            "  Attempting uninstall: tabulate\n",
            "    Found existing installation: tabulate 0.9.0\n",
            "    Uninstalling tabulate-0.9.0:\n",
            "      Successfully uninstalled tabulate-0.9.0\n",
            "  Attempting uninstall: networkx\n",
            "    Found existing installation: networkx 3.1\n",
            "    Uninstalling networkx-3.1:\n",
            "      Successfully uninstalled networkx-3.1\n",
            "Successfully installed Deprecated-1.2.14 networkx-2.8.8 tabulate-0.8.10 tsplib95-0.7.1\n"
          ]
        }
      ]
    },
    {
      "cell_type": "code",
      "source": [
        "import urllib.request #Hacer llamadas http a paginas de la red\n",
        "import tsplib95       #Modulo para las instancias del problema del TSP\n",
        "import math           #Modulo de funciones matematicas. Se usa para exp\n",
        "import random                     #Para generar valores aleatorios\n",
        "\n",
        "\n",
        "file = \"swiss42.tsp\" ;\n",
        "urllib.request.urlretrieve(\"http://comopt.ifi.uni-heidelberg.de/software/TSPLIB95/tsp/swiss42.tsp.gz\", file + '.gz')\n",
        "!gzip -d swiss42.tsp.gz     #Descomprimir el fichero de datos\n",
        "\n",
        "problem = tsplib95.load(file)\n",
        "\n",
        "#Nodos\n",
        "Nodos = list(problem.get_nodes())\n",
        "\n",
        "#Aristas\n",
        "Aristas = list(problem.get_edges())\n",
        "\n",
        "\n",
        "#Se genera una solucion aleatoria con comienzo en en el nodo 0\n",
        "def crear_solucion(Nodos):\n",
        "  solucion = [Nodos[0]]\n",
        "  for n in Nodos[1:]:\n",
        "    solucion = solucion + [random.choice(list(set(Nodos) - set({Nodos[0]}) - set(solucion)))]\n",
        "  return solucion\n",
        "\n",
        "#Devuelve la distancia entre dos nodos\n",
        "def distancia(a,b, problem):\n",
        "  return problem.get_weight(a,b)\n",
        "\n",
        "#Devuelve la distancia total de una trayectoria/solucion\n",
        "def distancia_total(solucion, problem):\n",
        "  distancia_total = 0\n",
        "  for i in range(len(solucion)-1):\n",
        "    distancia_total += distancia(solucion[i] ,solucion[i+1] ,  problem)\n",
        "  return distancia_total + distancia(solucion[len(solucion)-1] ,solucion[0], problem)\n",
        "\n",
        "\n",
        "def busqueda_aleatoria(problem, N):\n",
        "  #N es el numero de iteraciones\n",
        "  Nodos = list(problem.get_nodes())\n",
        "\n",
        "  mejor_solucion = []\n",
        "  #mejor_distancia = 10e100                         #Inicializamos con un valor alto\n",
        "  mejor_distancia = float('inf')                    #Inicializamos con un valor alto\n",
        "\n",
        "  for i in range(N):                                #Criterio de parada: repetir N veces pero podemos incluir otros\n",
        "    solucion = crear_solucion(Nodos)                #Genera una solucion aleatoria\n",
        "    distancia = distancia_total(solucion, problem)  #Calcula el valor objetivo(distancia total)\n",
        "\n",
        "    if distancia < mejor_distancia:                 #Compara con la mejor obtenida hasta ahora\n",
        "      mejor_solucion = solucion\n",
        "      mejor_distancia = distancia\n",
        "\n",
        "\n",
        "  print(\"Mejor solución:\" , mejor_solucion)\n",
        "  print(\"Distancia     :\" , mejor_distancia)\n",
        "  return mejor_solucion\n",
        "\n",
        "\n",
        "#Busqueda aleatoria con 5000 iteraciones\n",
        "solucion = busqueda_aleatoria(problem, 10000)\n",
        "\n",
        "\n",
        "# Función para generar una solución vecina utilizando el operador 2-opt\n",
        "def genera_vecina_2opt(solucion):\n",
        "    mejor_solucion = solucion\n",
        "    mejor_distancia = distancia_total(solucion, problem)\n",
        "\n",
        "    for i in range(1, len(solucion) - 1):\n",
        "        for j in range(i + 1, len(solucion)):\n",
        "            vecina = solucion[:i] + solucion[i:j][::-1] + solucion[j:]\n",
        "\n",
        "            distancia_vecina = distancia_total(vecina, problem)\n",
        "\n",
        "            if distancia_vecina < mejor_distancia:\n",
        "                mejor_solucion = vecina\n",
        "                mejor_distancia = distancia_vecina\n",
        "\n",
        "    return mejor_solucion\n",
        "\n",
        "# Función para generar una solución vecina utilizando el operador de swap (intercambio de dos nodos)\n",
        "def genera_vecina_swap(solucion):\n",
        "    i, j = random.sample(range(len(solucion)), 2)\n",
        "    vecina = solucion[:]\n",
        "    vecina[i], vecina[j] = vecina[j], vecina[i]\n",
        "    return vecina\n",
        "\n",
        "# Función para generar una solución vecina utilizando el operador de reverse (inversión de un subconjunto de nodos)\n",
        "def genera_vecina_reverse(solucion):\n",
        "    i, j = random.sample(range(len(solucion)), 2)\n",
        "    if i > j:\n",
        "        i, j = j, i\n",
        "    vecina = solucion[:i] + solucion[i:j][::-1] + solucion[j:]\n",
        "    return vecina\n",
        "\n",
        "# Función para aplicar búsqueda local con varios operadores de vecindad\n",
        "def busqueda_local(problem):\n",
        "    mejor_solucion = []\n",
        "\n",
        "    solucion_referencia = crear_solucion(Nodos)\n",
        "    mejor_distancia = distancia_total(solucion_referencia, problem)\n",
        "\n",
        "    iteracion = 0\n",
        "    while True:\n",
        "        iteracion += 1\n",
        "        # print('#', iteracion)\n",
        "\n",
        "        vecina_2opt = genera_vecina_2opt(solucion_referencia)\n",
        "        vecina_swap = genera_vecina_swap(solucion_referencia)\n",
        "        vecina_reverse = genera_vecina_reverse(solucion_referencia)\n",
        "\n",
        "        dist_2opt = distancia_total(vecina_2opt, problem)\n",
        "        dist_swap = distancia_total(vecina_swap, problem)\n",
        "        dist_reverse = distancia_total(vecina_reverse, problem)\n",
        "\n",
        "        mejor_vecina = min(vecina_2opt, vecina_swap, vecina_reverse, key=lambda x: distancia_total(x, problem))\n",
        "        mejor_distancia_vecina = distancia_total(mejor_vecina, problem)\n",
        "\n",
        "        if mejor_distancia_vecina < mejor_distancia:\n",
        "            mejor_solucion = mejor_vecina\n",
        "            mejor_distancia = mejor_distancia_vecina\n",
        "        else:\n",
        "            print(\"En la iteración\", iteracion, \", la mejor solución encontrada es:\", mejor_solucion)\n",
        "            print(\"Distancia     :\", mejor_distancia)\n",
        "            return mejor_solucion\n",
        "\n",
        "        solucion_referencia = mejor_vecina\n",
        "\n",
        "# Llamar a la función de búsqueda local con múltiples operadores de vecindad\n",
        "sol = busqueda_local(problem)\n"
      ],
      "metadata": {
        "colab": {
          "base_uri": "https://localhost:8080/"
        },
        "id": "gtYOrN5drng3",
        "outputId": "a5a93491-0fee-472b-fedd-667d89a08d52"
      },
      "execution_count": null,
      "outputs": [
        {
          "output_type": "stream",
          "name": "stdout",
          "text": [
            "gzip: swiss42.tsp already exists; do you wish to overwrite (y or n)? y\n",
            "Mejor solución: [0, 36, 15, 37, 4, 25, 1, 7, 14, 10, 13, 5, 39, 40, 21, 23, 32, 34, 31, 17, 12, 2, 41, 18, 3, 8, 22, 38, 24, 27, 28, 16, 6, 26, 29, 19, 33, 30, 9, 11, 35, 20]\n",
            "Distancia     : 3686\n",
            "En la iteración 34 , la mejor solución encontrada es: [0, 32, 27, 2, 28, 30, 29, 10, 4, 3, 1, 6, 5, 19, 13, 26, 18, 12, 11, 25, 41, 23, 8, 9, 21, 40, 24, 39, 22, 38, 34, 33, 20, 35, 36, 31, 17, 7, 37, 15, 14, 16]\n",
            "Distancia     : 1468\n"
          ]
        }
      ]
    },
    {
      "cell_type": "markdown",
      "source": [
        "#Búsqueda tabú"
      ],
      "metadata": {
        "id": "KFD_6sa9xrX-"
      }
    },
    {
      "cell_type": "code",
      "source": [
        "import urllib.request\n",
        "import tsplib95\n",
        "import random\n",
        "import math\n",
        "\n",
        "# Descargar el archivo de datos (Matriz de distancias)\n",
        "file = \"swiss42.tsp\"\n",
        "urllib.request.urlretrieve(\"http://comopt.ifi.uni-heidelberg.de/software/TSPLIB95/tsp/swiss42.tsp.gz\", file + '.gz')\n",
        "!gzip -d swiss42.tsp.gz\n",
        "\n",
        "problem = tsplib95.load(file)\n",
        "Nodos = list(problem.get_nodes())\n",
        "Aristas = list(problem.get_edges())\n",
        "\n",
        "# Funciones básicas\n",
        "def crear_solucion(Nodos):\n",
        "    solucion = [Nodos[0]]\n",
        "    for n in Nodos[1:]:\n",
        "        solucion = solucion + [random.choice(list(set(Nodos) - set({Nodos[0]}) - set(solucion)))]\n",
        "    return solucion\n",
        "\n",
        "def distancia(a, b, problem):\n",
        "    return problem.get_weight(a, b)\n",
        "\n",
        "def distancia_total(solucion, problem):\n",
        "    distancia_total = 0\n",
        "    for i in range(len(solucion) - 1):\n",
        "        distancia_total += distancia(solucion[i], solucion[i + 1], problem)\n",
        "    return distancia_total + distancia(solucion[len(solucion) - 1], solucion[0], problem)\n",
        "\n",
        "# Implementación del algoritmo de búsqueda tabú\n",
        "def busqueda_tabu(problem, max_iter, tam_tabu):\n",
        "    solucion_actual = crear_solucion(Nodos)\n",
        "    mejor_solucion = solucion_actual.copy()\n",
        "    mejor_distancia = distancia_total(solucion_actual, problem)\n",
        "    lista_tabu = []\n",
        "\n",
        "    for _ in range(max_iter):\n",
        "        vecinos = []\n",
        "\n",
        "        for i in range(1, len(solucion_actual) - 1):\n",
        "            for j in range(i + 1, len(solucion_actual)):\n",
        "                vecino = solucion_actual[:]\n",
        "                vecino[i], vecino[j] = vecino[j], vecino[i]\n",
        "                vecinos.append(vecino)\n",
        "\n",
        "        vecinos.sort(key=lambda x: distancia_total(x, problem))\n",
        "\n",
        "        for vecino in vecinos:\n",
        "            if vecino not in lista_tabu or distancia_total(vecino, problem) < mejor_distancia:\n",
        "                solucion_actual = vecino.copy()\n",
        "                distancia_actual = distancia_total(solucion_actual, problem)\n",
        "                if distancia_actual < mejor_distancia:\n",
        "                    mejor_solucion = solucion_actual.copy()\n",
        "                    mejor_distancia = distancia_actual\n",
        "                lista_tabu.append(vecino)\n",
        "                if len(lista_tabu) > tam_tabu:\n",
        "                    lista_tabu.pop(0)\n",
        "                break\n",
        "\n",
        "    return mejor_solucion, mejor_distancia\n",
        "\n",
        "# Parámetros del algoritmo\n",
        "max_iter = 1000  # Número máximo de iteraciones\n",
        "tam_tabu = 10    # Tamaño de la lista tabú\n",
        "\n",
        "mejor_solucion, mejor_distancia = busqueda_tabu(problem, max_iter, tam_tabu)\n",
        "print(\"Mejor solución encontrada:\", mejor_solucion)\n",
        "print(\"Distancia de la mejor solución:\", mejor_distancia)"
      ],
      "metadata": {
        "colab": {
          "base_uri": "https://localhost:8080/"
        },
        "id": "FScYFjtSusax",
        "outputId": "c043b6f0-c92b-46ab-8850-20d0c07fd4b6"
      },
      "execution_count": null,
      "outputs": [
        {
          "output_type": "stream",
          "name": "stdout",
          "text": [
            "gzip: swiss42.tsp already exists; do you wish to overwrite (y or n)? y\n",
            "Mejor solución encontrada: [0, 1, 3, 4, 10, 8, 29, 30, 32, 34, 33, 20, 35, 36, 31, 19, 13, 18, 12, 11, 25, 41, 23, 9, 40, 24, 21, 39, 22, 38, 28, 2, 27, 7, 17, 37, 15, 16, 14, 5, 26, 6]\n",
            "Distancia de la mejor solución: 1557\n"
          ]
        }
      ]
    },
    {
      "cell_type": "markdown",
      "source": [
        "#Recocido Simulado"
      ],
      "metadata": {
        "id": "mj_VhhmF45Du"
      }
    },
    {
      "cell_type": "code",
      "source": [
        "import random\n",
        "import math\n",
        "\n",
        "def distancia_total(ruta, problem):\n",
        "    # Calcula la longitud total de la ruta\n",
        "    distancia = 0\n",
        "    for i in range(len(ruta)):\n",
        "        distancia += problem[ruta[i - 1]][ruta[i]]\n",
        "    return distancia\n",
        "\n",
        "def genera_vecina_2opt(solucion):\n",
        "    # Selecciona dos puntos aleatoriamente\n",
        "    i, j = sorted(random.sample(range(1, len(solucion)), 2))\n",
        "\n",
        "    # Invierte el segmento de la ruta entre i y j\n",
        "    nueva_solucion = solucion[:i] + list(reversed(solucion[i:j])) + solucion[j:]\n",
        "\n",
        "    return nueva_solucion\n",
        "\n",
        "def recocido_simulado(problem, temperatura):\n",
        "    solucion_referencia = list(range(1, len(problem)))\n",
        "    random.shuffle(solucion_referencia)\n",
        "    distancia_referencia = distancia_total(solucion_referencia, problem)\n",
        "\n",
        "    mejor_solucion = solucion_referencia[:]\n",
        "    mejor_distancia = distancia_referencia\n",
        "\n",
        "    while temperatura > 0.0001:\n",
        "        vecina = genera_vecina_2opt(solucion_referencia)\n",
        "        distancia_vecina = distancia_total(vecina, problem)\n",
        "\n",
        "        if distancia_vecina < mejor_distancia:\n",
        "            mejor_solucion = vecina\n",
        "            mejor_distancia = distancia_vecina\n",
        "\n",
        "        if distancia_vecina < distancia_referencia or random.random() < math.exp((distancia_referencia - distancia_vecina) / temperatura):\n",
        "            solucion_referencia = vecina\n",
        "            distancia_referencia = distancia_vecina\n",
        "\n",
        "        temperatura = temperatura * 0.99\n",
        "\n",
        "    print(\"La mejor solución encontrada es:\", mejor_solucion)\n",
        "    print(\"con una distancia total de:\", mejor_distancia)\n",
        "    return mejor_solucion\n",
        "\n",
        "# Ejemplo de uso\n",
        "if __name__ == '__main__':\n",
        "    # Define la matriz de distancias del problema\n",
        "    problem = [\n",
        "        [0, 10, 15, 20],\n",
        "        [10, 0, 35, 25],\n",
        "        [15, 35, 0, 30],\n",
        "        [20, 25, 30, 0]\n",
        "    ]\n",
        "\n",
        "    sol = recocido_simulado(problem, 10000000)\n"
      ],
      "metadata": {
        "id": "3l4GaBoxxuB2",
        "outputId": "658c3a58-239a-4c20-a197-3966e08512f0",
        "colab": {
          "base_uri": "https://localhost:8080/"
        }
      },
      "execution_count": null,
      "outputs": [
        {
          "output_type": "stream",
          "name": "stdout",
          "text": [
            "La mejor solución encontrada es: [3, 2, 1]\n",
            "con una distancia total de: 90\n"
          ]
        }
      ]
    },
    {
      "cell_type": "markdown",
      "source": [],
      "metadata": {
        "id": "sDpnrPfp40vi"
      }
    }
  ]
}