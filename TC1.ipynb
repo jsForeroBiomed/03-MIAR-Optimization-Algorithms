{
  "nbformat": 4,
  "nbformat_minor": 0,
  "metadata": {
    "colab": {
      "provenance": [],
      "authorship_tag": "ABX9TyMP77GPbVcSN2S3F5rW9hiN",
      "include_colab_link": true
    },
    "kernelspec": {
      "name": "python3",
      "display_name": "Python 3"
    },
    "language_info": {
      "name": "python"
    }
  },
  "cells": [
    {
      "cell_type": "markdown",
      "metadata": {
        "id": "view-in-github",
        "colab_type": "text"
      },
      "source": [
        "<a href=\"https://colab.research.google.com/github/jsForeroBiomed/03-MIAR-Optimization-Algorithms/blob/main/TC1.ipynb\" target=\"_parent\"><img src=\"https://colab.research.google.com/assets/colab-badge.svg\" alt=\"Open In Colab\"/></a>"
      ]
    },
    {
      "cell_type": "markdown",
      "source": [
        "Mi primer cuaderno en Google Colab"
      ],
      "metadata": {
        "id": "9cqjL-QDT9oM"
      }
    },
    {
      "cell_type": "code",
      "source": [
        "!pip install sorting"
      ],
      "metadata": {
        "colab": {
          "base_uri": "https://localhost:8080/"
        },
        "id": "FvUv85VMUHYQ",
        "outputId": "f1f89c37-8254-46a3-c8e0-9eeac87a3489"
      },
      "execution_count": 2,
      "outputs": [
        {
          "output_type": "stream",
          "name": "stdout",
          "text": [
            "Looking in indexes: https://pypi.org/simple, https://us-python.pkg.dev/colab-wheels/public/simple/\n",
            "Collecting sorting\n",
            "  Downloading sorting-1.0.3.tar.gz (3.7 kB)\n",
            "  Preparing metadata (setup.py) ... \u001b[?25l\u001b[?25hdone\n",
            "Building wheels for collected packages: sorting\n",
            "  Building wheel for sorting (setup.py) ... \u001b[?25l\u001b[?25hdone\n",
            "  Created wheel for sorting: filename=sorting-1.0.3-py3-none-any.whl size=5859 sha256=78a2270134f60cf54502d52516276273ba5c73fc4d1dbd7c08e6fc9a4758b378\n",
            "  Stored in directory: /root/.cache/pip/wheels/be/29/6f/37bba489062514c58a40b6581a4fdb006cc01eb569eb6f9f35\n",
            "Successfully built sorting\n",
            "Installing collected packages: sorting\n",
            "Successfully installed sorting-1.0.3\n"
          ]
        }
      ]
    },
    {
      "cell_type": "code",
      "source": [
        "# Mi primer algoritmo\n",
        "import sorting\n",
        "\n",
        "lista = [4, 34, 3, 4, 3, 8]\n",
        "\n",
        "lista_ordenada = sorting.bubble(lista)\n",
        "\n",
        "print(lista_ordenada)"
      ],
      "metadata": {
        "colab": {
          "base_uri": "https://localhost:8080/"
        },
        "id": "w1lMpYg4UJdR",
        "outputId": "03e78df4-42dd-465d-b14f-b0adef2c6e4c"
      },
      "execution_count": 3,
      "outputs": [
        {
          "output_type": "stream",
          "name": "stdout",
          "text": [
            "[3, 3, 4, 4, 8, 34]\n"
          ]
        }
      ]
    },
    {
      "cell_type": "code",
      "source": [],
      "metadata": {
        "id": "3U4Xx_MPVJdK"
      },
      "execution_count": null,
      "outputs": []
    }
  ]
}